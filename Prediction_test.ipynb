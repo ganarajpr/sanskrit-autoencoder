{
 "cells": [
  {
   "cell_type": "code",
   "execution_count": 1,
   "id": "8ee12f2c-1931-477e-acc5-9ddb7e0e17ed",
   "metadata": {},
   "outputs": [],
   "source": [
    "import random\n",
    "import pandas as pd\n",
    "import numpy as np\n",
    "import matplotlib.pyplot as plt\n",
    "import seaborn as sns\n",
    "%matplotlib inline\n",
    "from pylab import rcParams"
   ]
  },
  {
   "cell_type": "code",
   "execution_count": 14,
   "id": "10beeb18-cfb0-4df4-89ba-e5c1e0948aa6",
   "metadata": {},
   "outputs": [],
   "source": [
    "from keras.preprocessing.sequence import pad_sequences\n",
    "#function that convert a char seqs to numbers seqs \n",
    "#(it does a little more but lets leave it for now)\n",
    "def encode_sequence_list(seqs, maxlen, feat_n=0):\n",
    "    encoded_seqs = []\n",
    "    for seq in seqs:\n",
    "        encoded_seq = [char_to_int[c] for c in seq]\n",
    "        encoded_seqs.append(encoded_seq)\n",
    "    if(feat_n > 0):\n",
    "        encoded_seqs.append(np.zeros(feat_n))\n",
    "    return pad_sequences(encoded_seqs, padding='post', maxlen=maxlen)\n",
    "\n",
    "def decode_sequence_list(seqs):\n",
    "    decoded_seqs = []\n",
    "    for seq in seqs:\n",
    "        decoded_seq = [int_to_char[i] for i in seq]\n",
    "        decoded_seqs.append(decoded_seq)\n",
    "    return decoded_seqs"
   ]
  },
  {
   "cell_type": "code",
   "execution_count": 44,
   "id": "0facb300-6f15-4bed-8c03-cd6d4dff60c8",
   "metadata": {},
   "outputs": [],
   "source": [
    "filename='sm_15_lettersdim_75acc.h5'\n",
    "dim = 15"
   ]
  },
  {
   "cell_type": "code",
   "execution_count": 79,
   "id": "b73e4413-8d99-43f1-84e1-b714b2a39548",
   "metadata": {},
   "outputs": [],
   "source": [
    "from keras.models import load_model\n",
    "\n",
    "autoencoder = load_model(filename)"
   ]
  },
  {
   "cell_type": "code",
   "execution_count": 45,
   "id": "62762220-ec6e-4422-90b5-7c2966d3a3f4",
   "metadata": {},
   "outputs": [
    {
     "data": {
      "text/plain": [
       "42"
      ]
     },
     "execution_count": 45,
     "metadata": {},
     "output_type": "execute_result"
    }
   ],
   "source": [
    "letters = ['ṭ', 'j', 'V', 'ū', 'p', 'y', 'l', 'ť', 'z', 'ṇ',\n",
    "           'v', 't', 's', 'h', 'e', 'ś', 'ą', 'ṣ', 'ṃ', 'ṝ',\n",
    "           'a', 'Z', 'o', 'g', 'ṛ', 'm', 'ñ', 'ḍ', 'ā', 'ḥ', 'S', 'b', 'i', 'u',\n",
    "           'k', 'c', 'ī', 'd', 'r', 'n', '˛', 'ṅ']\n",
    "char_to_int = dict((c, i) for i, c in enumerate(letters))\n",
    "int_to_char = dict((i, c) for i, c in enumerate(letters))\n",
    "len(letters)"
   ]
  },
  {
   "cell_type": "code",
   "execution_count": 78,
   "id": "21143071-2f26-475c-b479-d88ba7f2ebbb",
   "metadata": {},
   "outputs": [],
   "source": [
    "from sklearn.preprocessing import StandardScaler, MinMaxScaler\n",
    "scaler = MinMaxScaler()\n",
    "wlist = ['sevyatām','ditisutāḥ', 'thomas']\n",
    "seqs_ds = pd.DataFrame(wlist)\n",
    "encoded_seqs = encode_sequence_list(wlist, dim)\n",
    "scaled_seqs = scaler.fit_transform(encoded_seqs)"
   ]
  },
  {
   "cell_type": "code",
   "execution_count": 80,
   "id": "a0fa86d6-3a25-4059-b077-0024228426a8",
   "metadata": {},
   "outputs": [],
   "source": [
    "#get the MSE error term\n",
    "predictions = autoencoder.predict(scaled_seqs)\n",
    "#mse = np.mean(np.power(scaled_seqs - predictions, 2), axis=1)\n",
    "#print('MSE:', np.quantile(mse, 0.999)) # => the 9999% quatile - only 0.0001% have error score higher than that"
   ]
  },
  {
   "cell_type": "code",
   "execution_count": 84,
   "id": "758db89e-5042-42a1-9a2d-0d411e26340a",
   "metadata": {},
   "outputs": [],
   "source": [
    "#encode all the data\n",
    "encoded_seqs = encode_sequence_list(seqs_ds.iloc[:,0],dim)\n",
    "#scale it\n",
    "scaled_data = MinMaxScaler().fit_transform(encoded_seqs)\n",
    "#predict it\n",
    "predicted = autoencoder.predict(scaled_data)\n",
    "#get the error term\n",
    "mse = np.mean(np.power(scaled_data - predicted, 2), axis=1)\n",
    "#now add them to our data frame\n",
    "seqs_ds['MSE'] = mse"
   ]
  },
  {
   "cell_type": "code",
   "execution_count": 85,
   "id": "622c7da8-3318-436a-8762-9fe3282b977f",
   "metadata": {},
   "outputs": [
    {
     "data": {
      "text/html": [
       "<div>\n",
       "<style scoped>\n",
       "    .dataframe tbody tr th:only-of-type {\n",
       "        vertical-align: middle;\n",
       "    }\n",
       "\n",
       "    .dataframe tbody tr th {\n",
       "        vertical-align: top;\n",
       "    }\n",
       "\n",
       "    .dataframe thead th {\n",
       "        text-align: right;\n",
       "    }\n",
       "</style>\n",
       "<table border=\"1\" class=\"dataframe\">\n",
       "  <thead>\n",
       "    <tr style=\"text-align: right;\">\n",
       "      <th></th>\n",
       "      <th>0</th>\n",
       "      <th>MSE</th>\n",
       "      <th>MSE_Outlier</th>\n",
       "    </tr>\n",
       "  </thead>\n",
       "  <tbody>\n",
       "    <tr>\n",
       "      <th>0</th>\n",
       "      <td>sevyatām</td>\n",
       "      <td>0.006087</td>\n",
       "      <td>1</td>\n",
       "    </tr>\n",
       "    <tr>\n",
       "      <th>1</th>\n",
       "      <td>ditisutāḥ</td>\n",
       "      <td>0.004921</td>\n",
       "      <td>0</td>\n",
       "    </tr>\n",
       "    <tr>\n",
       "      <th>2</th>\n",
       "      <td>thomas</td>\n",
       "      <td>0.001726</td>\n",
       "      <td>0</td>\n",
       "    </tr>\n",
       "  </tbody>\n",
       "</table>\n",
       "</div>"
      ],
      "text/plain": [
       "           0       MSE  MSE_Outlier\n",
       "0   sevyatām  0.006087            1\n",
       "1  ditisutāḥ  0.004921            0\n",
       "2     thomas  0.001726            0"
      ]
     },
     "metadata": {},
     "output_type": "display_data"
    }
   ],
   "source": [
    "display(seqs_ds)"
   ]
  },
  {
   "cell_type": "code",
   "execution_count": 83,
   "id": "fdf5a862-0025-4093-aff2-e36ddad82af3",
   "metadata": {},
   "outputs": [
    {
     "name": "stdout",
     "output_type": "stream",
     "text": [
      "MSE 0.9999 threshhold:0.006086682941338582\n",
      "Num of MSE outlier:1\n"
     ]
    },
    {
     "data": {
      "text/html": [
       "<div>\n",
       "<style scoped>\n",
       "    .dataframe tbody tr th:only-of-type {\n",
       "        vertical-align: middle;\n",
       "    }\n",
       "\n",
       "    .dataframe tbody tr th {\n",
       "        vertical-align: top;\n",
       "    }\n",
       "\n",
       "    .dataframe thead th {\n",
       "        text-align: right;\n",
       "    }\n",
       "</style>\n",
       "<table border=\"1\" class=\"dataframe\">\n",
       "  <thead>\n",
       "    <tr style=\"text-align: right;\">\n",
       "      <th></th>\n",
       "      <th>0</th>\n",
       "      <th>MSE</th>\n",
       "      <th>MSE_Outlier</th>\n",
       "    </tr>\n",
       "  </thead>\n",
       "  <tbody>\n",
       "    <tr>\n",
       "      <th>0</th>\n",
       "      <td>sevyatām</td>\n",
       "      <td>0.006087</td>\n",
       "      <td>1</td>\n",
       "    </tr>\n",
       "  </tbody>\n",
       "</table>\n",
       "</div>"
      ],
      "text/plain": [
       "          0       MSE  MSE_Outlier\n",
       "0  sevyatām  0.006087            1"
      ]
     },
     "execution_count": 83,
     "metadata": {},
     "output_type": "execute_result"
    }
   ],
   "source": [
    "mse_threshold = np.quantile(seqs_ds['MSE'], 0.9999)\n",
    "print(f'MSE 0.9999 threshhold:{mse_threshold}')\n",
    "seqs_ds['MSE_Outlier'] = 0\n",
    "seqs_ds.loc[seqs_ds['MSE'] > mse_threshold, 'MSE_Outlier'] = 1\n",
    "print(f\"Num of MSE outlier:{seqs_ds['MSE_Outlier'].sum()}\")\n",
    "\n",
    "seqs_ds.loc[seqs_ds['MSE_Outlier'] == 1]"
   ]
  },
  {
   "cell_type": "code",
   "execution_count": null,
   "id": "d0c72a76-af86-47ed-bf42-fd13611f5d58",
   "metadata": {},
   "outputs": [],
   "source": []
  },
  {
   "cell_type": "code",
   "execution_count": null,
   "id": "f0bb10f3-f8df-4f67-9ed1-56bd66ebc895",
   "metadata": {},
   "outputs": [],
   "source": []
  }
 ],
 "metadata": {
  "kernelspec": {
   "display_name": "Python 3 (ipykernel)",
   "language": "python",
   "name": "python3"
  },
  "language_info": {
   "codemirror_mode": {
    "name": "ipython",
    "version": 3
   },
   "file_extension": ".py",
   "mimetype": "text/x-python",
   "name": "python",
   "nbconvert_exporter": "python",
   "pygments_lexer": "ipython3",
   "version": "3.8.10"
  }
 },
 "nbformat": 4,
 "nbformat_minor": 5
}
