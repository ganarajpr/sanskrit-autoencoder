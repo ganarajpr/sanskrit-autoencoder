{
 "cells": [
  {
   "cell_type": "code",
   "execution_count": 5,
   "id": "6ac9b202-1cbf-4a72-8000-c10cf9086a8a",
   "metadata": {},
   "outputs": [],
   "source": [
    "import glob\n",
    "import pandas as pd\n",
    "import numpy as np"
   ]
  },
  {
   "cell_type": "code",
   "execution_count": 16,
   "id": "cfb4c379-f96b-46de-a4b7-7266411e55f5",
   "metadata": {},
   "outputs": [
    {
     "name": "stdout",
     "output_type": "stream",
     "text": [
      "2601\n"
     ]
    }
   ],
   "source": [
    "files = glob.glob(\"./devangari/*\")\n",
    "#files = ['./devangari/mbs01001dev.txt']\n",
    "print(len(files))"
   ]
  },
  {
   "cell_type": "code",
   "execution_count": 63,
   "id": "65ac3723-deb0-4dd5-baa9-27ea45ce1f1b",
   "metadata": {},
   "outputs": [],
   "source": [
    "def getWords(filepath):\n",
    "    with open(filepath) as f:\n",
    "        lines = f.readlines()\n",
    "        df = pd.DataFrame(data=lines, columns=['text'])\n",
    "        df = df['text'].str.split(expand=True)\n",
    "        df = df.replace(to_replace=r\"[\\[\\];\\\"0-9]*\", value='', regex=True)\n",
    "        new = df.values.flatten()\n",
    "    return np.extract(new != None, new)"
   ]
  },
  {
   "cell_type": "code",
   "execution_count": 64,
   "id": "d14cfb4a-a1f5-4e7f-872a-2c2ebaf7098c",
   "metadata": {},
   "outputs": [
    {
     "name": "stdout",
     "output_type": "stream",
     "text": [
      "Done: 0\n",
      "Done: 100\n",
      "Done: 200\n",
      "Done: 300\n",
      "Done: 400\n",
      "Done: 500\n",
      "Done: 600\n",
      "Done: 700\n",
      "Done: 800\n",
      "Done: 900\n",
      "Done: 1000\n",
      "Done: 1100\n",
      "Done: 1200\n",
      "Done: 1300\n",
      "Done: 1400\n",
      "Done: 1500\n",
      "Done: 1600\n",
      "Done: 1700\n",
      "Done: 1800\n",
      "Done: 1900\n",
      "Done: 2000\n",
      "Done: 2100\n",
      "Done: 2200\n",
      "Done: 2300\n",
      "Done: 2400\n",
      "Done: 2500\n",
      "Done: 2600\n"
     ]
    },
    {
     "data": {
      "text/plain": [
       "207182"
      ]
     },
     "execution_count": 64,
     "metadata": {},
     "output_type": "execute_result"
    }
   ],
   "source": [
    "words = set([])\n",
    "for i in range(len(files)):\n",
    "    wordsInFile = getWords(files[i])\n",
    "    words = words.union(set(wordsInFile))\n",
    "    if i%100 == 0:\n",
    "        print(\"Done:\", i)\n",
    "len(words)"
   ]
  },
  {
   "cell_type": "code",
   "execution_count": 65,
   "id": "61f3c2cd-0249-4b63-9fc2-58110e791a00",
   "metadata": {},
   "outputs": [],
   "source": [
    "pdWords = pd.DataFrame(data=list(words))"
   ]
  },
  {
   "cell_type": "code",
   "execution_count": 81,
   "id": "5ed61b83-1678-4388-b566-1d0f97739efd",
   "metadata": {},
   "outputs": [
    {
     "data": {
      "text/plain": [
       "207182"
      ]
     },
     "execution_count": 81,
     "metadata": {},
     "output_type": "execute_result"
    }
   ],
   "source": [
    "pdWords.size"
   ]
  },
  {
   "cell_type": "code",
   "execution_count": 85,
   "id": "063c10f4-ff48-401b-be02-04a6d7317e48",
   "metadata": {},
   "outputs": [
    {
     "data": {
      "text/plain": [
       "0    False\n",
       "dtype: bool"
      ]
     },
     "execution_count": 85,
     "metadata": {},
     "output_type": "execute_result"
    }
   ],
   "source": [
    "def isString(row):\n",
    "    if row[0] =='':\n",
    "        return False\n",
    "    if isinstance(row[0], str):\n",
    "        return True\n",
    "    return False\n",
    "m = pdWords.apply(isString, axis=0)\n",
    "m.size\n",
    "m"
   ]
  },
  {
   "cell_type": "code",
   "execution_count": 67,
   "id": "6a0311cb-4e61-4691-a444-ccbfb045f7d4",
   "metadata": {},
   "outputs": [],
   "source": [
    "pdWords.to_csv('dev-uniq.csv', index=False)"
   ]
  },
  {
   "cell_type": "code",
   "execution_count": 52,
   "id": "ac3c9dd6-c1ca-447d-b394-59968ca85c3b",
   "metadata": {},
   "outputs": [],
   "source": [
    "w = list(words)"
   ]
  },
  {
   "cell_type": "code",
   "execution_count": 53,
   "id": "e773af1a-7b07-4254-99c0-de352bbdcbc4",
   "metadata": {},
   "outputs": [
    {
     "name": "stdout",
     "output_type": "stream",
     "text": [
      "ऽशरॊत्रियम b'\\\\u0924\\\\u0915\\\\u094d\\\\u0937\\\\u0924\\\\u094a\\\\u0930'\n",
      "अथान्यं b'\\\\u0905\\\\u0925\\\\u093e\\\\u0928\\\\u094d\\\\u092f\\\\u0902'\n"
     ]
    }
   ],
   "source": [
    "print(w[27],(w[28]).encode(\"unicode_escape\"))\n",
    "print(w[26],(w[26]).encode(\"unicode_escape\"))"
   ]
  },
  {
   "cell_type": "code",
   "execution_count": 54,
   "id": "3a7ceab4-f6da-44a8-8236-a1ce3702dabe",
   "metadata": {},
   "outputs": [
    {
     "name": "stdout",
     "output_type": "stream",
     "text": [
      "\n",
      "कलीबता\n",
      "उक्त्वानुज्ञाप्य\n",
      "नानुमन्यसे\n",
      "सुदारुणालांकृतवेषधारिणा\n",
      "शलभाः\n",
      "गणित\n",
      "वयस्ता\n",
      "तथॊदीर्णं\n",
      "सत्कृत्यॊपचचार\n",
      "यॊधव्रतम\n",
      "रुद्धा\n",
      "पृष्टॊ\n",
      "पातश\n",
      "विज्ञायेदं\n",
      "गृहीत्वैतानि\n",
      "विलॊहितय\n",
      "इवामयाः\n",
      "छरुत्वान्तरिक्षाच\n",
      "हन्तव्यश\n",
      "मुनिसत्तम\n",
      "शवसद्भिर\n",
      "वज्रहस्तेन\n",
      "विश्वां\n",
      "ऽसयाश्वान\n",
      "नियमांस\n",
      "अथान्यं\n",
      "ऽशरॊत्रियम\n",
      "तक्षतॊर\n",
      "नाभ्युपागमत\n",
      "पर्यायैर\n",
      "जञानलिङ्गैर\n",
      "नागभॊगेन\n",
      "दारुणाम\n",
      "उच्छ्रित्य\n",
      "सिद्धचारणसेविताम\n",
      "शास्तं\n",
      "रक्षतः\n",
      "वायराम\n",
      "संव्यचेष्टेतां\n",
      "जवलितैस\n",
      "तपॊधनौ\n",
      "अहेतुकम\n",
      "परित्यक्ष्यति\n",
      "वयाधयॊपेक्षिता\n",
      "वर्धमानैस\n",
      "पुष्पनिकरैर\n",
      "सथावरजङ्गमैः\n",
      "नॊपेक्षितुं\n",
      "ऽभयन्तरस\n",
      "पुरस्कृत्यॊपतस्थिरे\n",
      "आवेदयंस\n",
      "दशग्रीवस्य\n",
      "तत्रास्ति\n",
      "यथानन्तरान\n",
      "समारभ्यतमं\n",
      "संहतानि\n",
      "एकलव्यस\n",
      "कुमुदैः\n",
      "परमहृष्टानां\n",
      "गरसमानः\n",
      "शास्त्रानुगा\n",
      "बुद्धवान\n",
      "बर्बरास\n",
      "पीतमाञ्जिष्ठवर्णाश\n",
      "हिरण्यबिन्दॊस\n",
      "विभुश\n",
      "चिताः\n",
      "दिव्यतॊयभिर\n",
      "नीडाश\n",
      "अज्ञास्यं\n",
      "दुःखार्जितस्य\n",
      "परिषिञ्चत\n",
      "परनीय\n",
      "अपहास्य\n",
      "करॊधाविष्टः\n",
      "परत्यविध्यद\n",
      "कारितं\n",
      "अन्यॊन्यवधकाङ्क्षिणाम\n",
      "बालेनापि\n",
      "शस्त्रविघातिभिः\n",
      "बहुमतॊ\n",
      "मणिभूषितम\n",
      "परिगृह्य\n",
      "कुलधर्म\n",
      "दुन्दुभिनिर्घॊषं\n",
      "पश्येथाश\n",
      "वैदूर्यविमलैः\n",
      "विधॊ\n",
      "सीरविघ्नं\n",
      "पूर्वाचार्यं\n",
      "उपनिषदम\n",
      "परपद्येम\n",
      "नियमज्ञा\n",
      "हिंसानृत\n",
      "कषीणप्राणा\n",
      "परणनर्त\n",
      "मन्दभाग्या\n",
      "अङ्गात\n",
      "अवषेषयेत\n"
     ]
    }
   ],
   "source": [
    "for i in range(100):\n",
    "    print(w[i])"
   ]
  },
  {
   "cell_type": "code",
   "execution_count": 55,
   "id": "bfe4dc55-9cc3-4ea5-8d45-651b4663cd0e",
   "metadata": {},
   "outputs": [
    {
     "name": "stdout",
     "output_type": "stream",
     "text": [
      "अथान्यं\n"
     ]
    }
   ],
   "source": [
    "print(w[26])"
   ]
  },
  {
   "cell_type": "code",
   "execution_count": null,
   "id": "b1693a16-4487-4bb9-a66d-d1847c5d2695",
   "metadata": {},
   "outputs": [],
   "source": []
  }
 ],
 "metadata": {
  "kernelspec": {
   "display_name": "Python 3 (ipykernel)",
   "language": "python",
   "name": "python3"
  },
  "language_info": {
   "codemirror_mode": {
    "name": "ipython",
    "version": 3
   },
   "file_extension": ".py",
   "mimetype": "text/x-python",
   "name": "python",
   "nbconvert_exporter": "python",
   "pygments_lexer": "ipython3",
   "version": "3.8.10"
  }
 },
 "nbformat": 4,
 "nbformat_minor": 5
}
