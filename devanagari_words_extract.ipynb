{
 "cells": [
  {
   "cell_type": "code",
   "execution_count": 5,
   "id": "6ac9b202-1cbf-4a72-8000-c10cf9086a8a",
   "metadata": {},
   "outputs": [],
   "source": [
    "import glob\n",
    "import pandas as pd\n",
    "import numpy as np"
   ]
  },
  {
   "cell_type": "code",
   "execution_count": 16,
   "id": "cfb4c379-f96b-46de-a4b7-7266411e55f5",
   "metadata": {},
   "outputs": [
    {
     "name": "stdout",
     "output_type": "stream",
     "text": [
      "2601\n"
     ]
    }
   ],
   "source": [
    "files = glob.glob(\"./devangari/*\")\n",
    "#files = ['./devangari/mbs01001dev.txt']\n",
    "print(len(files))"
   ]
  },
  {
   "cell_type": "code",
   "execution_count": 17,
   "id": "65ac3723-deb0-4dd5-baa9-27ea45ce1f1b",
   "metadata": {},
   "outputs": [],
   "source": [
    "def getWords(filepath):\n",
    "    with open(filepath) as f:\n",
    "        lines = f.readlines()\n",
    "        df = pd.DataFrame(data=lines, columns=['text'])\n",
    "        df = df['text'].str.split(expand=True)\n",
    "        new = df.values.flatten()\n",
    "    return np.extract(new != None, new)"
   ]
  },
  {
   "cell_type": "code",
   "execution_count": 19,
   "id": "d14cfb4a-a1f5-4e7f-872a-2c2ebaf7098c",
   "metadata": {},
   "outputs": [
    {
     "name": "stdout",
     "output_type": "stream",
     "text": [
      "Done: 0\n",
      "Done: 100\n",
      "Done: 200\n",
      "Done: 300\n",
      "Done: 400\n",
      "Done: 500\n",
      "Done: 600\n",
      "Done: 700\n",
      "Done: 800\n",
      "Done: 900\n",
      "Done: 1000\n",
      "Done: 1100\n",
      "Done: 1200\n",
      "Done: 1300\n",
      "Done: 1400\n",
      "Done: 1500\n",
      "Done: 1600\n",
      "Done: 1700\n",
      "Done: 1800\n",
      "Done: 1900\n",
      "Done: 2000\n",
      "Done: 2100\n",
      "Done: 2200\n",
      "Done: 2300\n",
      "Done: 2400\n",
      "Done: 2500\n",
      "Done: 2600\n"
     ]
    },
    {
     "data": {
      "text/plain": [
       "211346"
      ]
     },
     "execution_count": 19,
     "metadata": {},
     "output_type": "execute_result"
    }
   ],
   "source": [
    "words = set([])\n",
    "for i in range(len(files)):\n",
    "    wordsInFile = getWords(files[i])\n",
    "    words = words.union(set(wordsInFile))\n",
    "    if i%100 == 0:\n",
    "        print(\"Done:\", i)\n",
    "len(words)"
   ]
  },
  {
   "cell_type": "code",
   "execution_count": 20,
   "id": "61f3c2cd-0249-4b63-9fc2-58110e791a00",
   "metadata": {},
   "outputs": [],
   "source": [
    "pdWords = pd.DataFrame(data=words)"
   ]
  },
  {
   "cell_type": "code",
   "execution_count": 21,
   "id": "5ed61b83-1678-4388-b566-1d0f97739efd",
   "metadata": {},
   "outputs": [
    {
     "data": {
      "text/plain": [
       "211346"
      ]
     },
     "execution_count": 21,
     "metadata": {},
     "output_type": "execute_result"
    }
   ],
   "source": [
    "pdWords.size"
   ]
  },
  {
   "cell_type": "code",
   "execution_count": 22,
   "id": "6a0311cb-4e61-4691-a444-ccbfb045f7d4",
   "metadata": {},
   "outputs": [],
   "source": [
    "pdWords.to_csv('uniq-cleaned-dev.csv', index=False)"
   ]
  },
  {
   "cell_type": "code",
   "execution_count": 24,
   "id": "ac3c9dd6-c1ca-447d-b394-59968ca85c3b",
   "metadata": {},
   "outputs": [],
   "source": [
    "w = list(words)"
   ]
  },
  {
   "cell_type": "code",
   "execution_count": 28,
   "id": "e773af1a-7b07-4254-99c0-de352bbdcbc4",
   "metadata": {},
   "outputs": [
    {
     "name": "stdout",
     "output_type": "stream",
     "text": [
      "कलीबता b'\\\\u0915\\\\u0932\\\\u0940\\\\u092c\\\\u0924\\\\u093e'\n",
      "उक्त्वानुज्ञाप्य b'\\\\u0909\\\\u0915\\\\u094d\\\\u0924\\\\u094d\\\\u0935\\\\u093e\\\\u0928\\\\u0941\\\\u091c\\\\u094d\\\\u091e\\\\u093e\\\\u092a\\\\u094d\\\\u092f'\n"
     ]
    }
   ],
   "source": [
    "print(w[0],(w[0]).encode(\"unicode_escape\"))\n",
    "print(w[1],(w[1]).encode(\"unicode_escape\"))"
   ]
  },
  {
   "cell_type": "code",
   "execution_count": null,
   "id": "3a7ceab4-f6da-44a8-8236-a1ce3702dabe",
   "metadata": {},
   "outputs": [],
   "source": []
  }
 ],
 "metadata": {
  "kernelspec": {
   "display_name": "Python 3 (ipykernel)",
   "language": "python",
   "name": "python3"
  },
  "language_info": {
   "codemirror_mode": {
    "name": "ipython",
    "version": 3
   },
   "file_extension": ".py",
   "mimetype": "text/x-python",
   "name": "python",
   "nbconvert_exporter": "python",
   "pygments_lexer": "ipython3",
   "version": "3.8.10"
  }
 },
 "nbformat": 4,
 "nbformat_minor": 5
}
