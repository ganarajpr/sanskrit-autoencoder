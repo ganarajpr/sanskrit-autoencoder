{
 "cells": [
  {
   "cell_type": "code",
   "execution_count": 12,
   "id": "6ac9b202-1cbf-4a72-8000-c10cf9086a8a",
   "metadata": {},
   "outputs": [],
   "source": [
    "import glob\n",
    "import pandas as pd\n",
    "import numpy as np"
   ]
  },
  {
   "cell_type": "code",
   "execution_count": 13,
   "id": "cfb4c379-f96b-46de-a4b7-7266411e55f5",
   "metadata": {},
   "outputs": [
    {
     "name": "stdout",
     "output_type": "stream",
     "text": [
      "190\n"
     ]
    }
   ],
   "source": [
    "files = glob.glob(\"./corpora/*\")\n",
    "print(len(files))"
   ]
  },
  {
   "cell_type": "code",
   "execution_count": 14,
   "id": "65ac3723-deb0-4dd5-baa9-27ea45ce1f1b",
   "metadata": {},
   "outputs": [],
   "source": [
    "def getWords(filepath):\n",
    "    with open(filepath) as f:\n",
    "        lines = f.readlines()\n",
    "    df = pd.DataFrame(data=lines, columns=['text'])\n",
    "    df = df.replace(to_replace=r'\\/.*$', value='', regex=True)\n",
    "    df = df.replace(to_replace=r'^\\s*\\t*', value='', regex=True)\n",
    "    df = df.replace(to_replace=r\"'*\", value='', regex=True)\n",
    "    df = df['text'].str.split(expand=True)\n",
    "    new = df.values.flatten()\n",
    "    return np.extract(new != None, new)"
   ]
  },
  {
   "cell_type": "code",
   "execution_count": 17,
   "id": "d14cfb4a-a1f5-4e7f-872a-2c2ebaf7098c",
   "metadata": {},
   "outputs": [
    {
     "data": {
      "text/plain": [
       "66981"
      ]
     },
     "execution_count": 17,
     "metadata": {},
     "output_type": "execute_result"
    }
   ],
   "source": [
    "words = []\n",
    "for i in range(len(files)):\n",
    "    words = np.concatenate((words, getWords(files[i])), axis=None)\n",
    "uniqWords = set(words.flatten())\n",
    "len(uniqWords)"
   ]
  },
  {
   "cell_type": "code",
   "execution_count": 22,
   "id": "61f3c2cd-0249-4b63-9fc2-58110e791a00",
   "metadata": {},
   "outputs": [],
   "source": [
    "pdWords = pd.DataFrame(data=uniqWords)"
   ]
  },
  {
   "cell_type": "code",
   "execution_count": 23,
   "id": "5ed61b83-1678-4388-b566-1d0f97739efd",
   "metadata": {},
   "outputs": [
    {
     "data": {
      "text/plain": [
       "66981"
      ]
     },
     "execution_count": 23,
     "metadata": {},
     "output_type": "execute_result"
    }
   ],
   "source": [
    "pdWords.size"
   ]
  },
  {
   "cell_type": "code",
   "execution_count": 24,
   "id": "6a0311cb-4e61-4691-a444-ccbfb045f7d4",
   "metadata": {},
   "outputs": [],
   "source": [
    "pdWords.to_csv('uniq.csv', index=False)"
   ]
  },
  {
   "cell_type": "code",
   "execution_count": null,
   "id": "ac3c9dd6-c1ca-447d-b394-59968ca85c3b",
   "metadata": {},
   "outputs": [],
   "source": []
  }
 ],
 "metadata": {
  "kernelspec": {
   "display_name": "Python 3 (ipykernel)",
   "language": "python",
   "name": "python3"
  },
  "language_info": {
   "codemirror_mode": {
    "name": "ipython",
    "version": 3
   },
   "file_extension": ".py",
   "mimetype": "text/x-python",
   "name": "python",
   "nbconvert_exporter": "python",
   "pygments_lexer": "ipython3",
   "version": "3.8.10"
  }
 },
 "nbformat": 4,
 "nbformat_minor": 5
}
