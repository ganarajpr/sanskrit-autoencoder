{
 "cells": [
  {
   "cell_type": "code",
   "execution_count": 1,
   "id": "48c4cf40-12f9-4545-81ee-0872d92c9a9a",
   "metadata": {},
   "outputs": [],
   "source": [
    "import random\n",
    "import pandas as pd\n",
    "import numpy as np\n",
    "import matplotlib.pyplot as plt\n",
    "import seaborn as sns\n",
    "%matplotlib inline\n",
    "from pylab import rcParams\n",
    "\n",
    "rcParams['figure.figsize'] = 12, 6\n",
    "sns.set(style='whitegrid', palette='muted', font_scale=1.5)"
   ]
  },
  {
   "cell_type": "code",
   "execution_count": 2,
   "id": "9fc9f4c4-5275-400e-bc02-b7a6b12e1d6e",
   "metadata": {},
   "outputs": [
    {
     "name": "stdout",
     "output_type": "stream",
     "text": [
      "EECC2ZZW\n"
     ]
    }
   ],
   "source": [
    "first_letters =  'ABCDEF'\n",
    "second_numbers = '120'\n",
    "last_letters = 'QWOPZXML'\n",
    "\n",
    "# returns a string of the following format: [4 letters A-F][1 digit 0-2][3 letters QWOPZXML]\n",
    "def get_random_string():\n",
    "    str1 = ''.join(random.choice(first_letters) for i in range(4))\n",
    "    str2 = random.choice(second_numbers)\n",
    "    str3 = ''.join(random.choice(last_letters) for i in range(3))\n",
    "    return str1+str2+str3\n",
    "    \n",
    "print(get_random_string())"
   ]
  },
  {
   "cell_type": "code",
   "execution_count": 3,
   "id": "c62fde40-b28f-4db7-8895-8eca7ccc5581",
   "metadata": {},
   "outputs": [
    {
     "data": {
      "text/plain": [
       "['CBFE1WWL', 'DCCD2OWM', 'CFAC0POW', 'FACC2ZLW']"
      ]
     },
     "execution_count": 3,
     "metadata": {},
     "output_type": "execute_result"
    }
   ],
   "source": [
    "# get 25,000 sequences of this format\n",
    "random_sequences = [get_random_string() for i in range(25000)]\n",
    "random_sequences[1:5]"
   ]
  },
  {
   "cell_type": "code",
   "execution_count": 4,
   "id": "187656dd-2672-486a-a3da-97adc958cc3a",
   "metadata": {},
   "outputs": [],
   "source": [
    "\n",
    "#Build the char index that we will use to encode seqs to numbers\n",
    "char_index = '0abcdefghijklmnopqrstuvwxyz'\n",
    "char_index +='ABCDEFGHIJKLMNOPQRSTUVWXYZ'\n",
    "char_index += '123456789'\n",
    "char_index += '().,-/+=&$?@#!*:;_[]|%⸏{}\\\"\\'' + ' ' +'\\\\'\n",
    "\n",
    "char_to_int = dict((c, i) for i, c in enumerate(char_index))\n",
    "int_to_char = dict((i, c) for i, c in enumerate(char_index))"
   ]
  },
  {
   "cell_type": "code",
   "execution_count": 5,
   "id": "59eb6d73-232d-4326-ad83-2261dcaf005d",
   "metadata": {},
   "outputs": [
    {
     "name": "stderr",
     "output_type": "stream",
     "text": [
      "2021-07-31 13:32:22.003173: I tensorflow/stream_executor/platform/default/dso_loader.cc:53] Successfully opened dynamic library libcudart.so.11.0\n"
     ]
    }
   ],
   "source": [
    "from keras.preprocessing.sequence import pad_sequences\n",
    "#function that convert a char seqs to numbers seqs \n",
    "#(it does a little more but lets leave it for now)\n",
    "def encode_sequence_list(seqs, feat_n=0):\n",
    "    encoded_seqs = []\n",
    "    for seq in seqs:\n",
    "        encoded_seq = [char_to_int[c] for c in seq]\n",
    "        encoded_seqs.append(encoded_seq)\n",
    "    if(feat_n > 0):\n",
    "        encoded_seqs.append(np.zeros(feat_n))\n",
    "    return pad_sequences(encoded_seqs, padding='post')\n",
    "\n",
    "def decode_sequence_list(seqs):\n",
    "    decoded_seqs = []\n",
    "    for seq in seqs:\n",
    "        decoded_seq = [int_to_char[i] for i in seq]\n",
    "        decoded_seqs.append(decoded_seq)\n",
    "    return decoded_seqs"
   ]
  },
  {
   "cell_type": "code",
   "execution_count": 6,
   "id": "8332c03e-f3bd-437f-91f1-f8902ce0e366",
   "metadata": {},
   "outputs": [],
   "source": [
    "# add some anomalies to our list\n",
    "random_sequences.extend(['XYDC2DCA', 'TXSX1ABC','RNIU4XRE','AABDXUEI','SDRAC5RF'])\n",
    "#save this to a dataframe\n",
    "seqs_ds = pd.DataFrame(random_sequences)\n",
    "# encode each string seq to an integer array [[1],[5],[67]], [[45],[76],[7]\n",
    "encoded_seqs = encode_sequence_list(random_sequences)\n",
    "# mix everything up\n",
    "np.random.shuffle(encoded_seqs)"
   ]
  },
  {
   "cell_type": "code",
   "execution_count": 7,
   "id": "b34a5ae5-1028-4102-9857-c1a2bb91a367",
   "metadata": {},
   "outputs": [
    {
     "name": "stdout",
     "output_type": "stream",
     "text": [
      "DBDD0LWO\n",
      "[31 31 30 29 54 41 49 38]\n"
     ]
    }
   ],
   "source": [
    "print(random_sequences[10])\n",
    "print(encoded_seqs[10])"
   ]
  },
  {
   "cell_type": "code",
   "execution_count": 8,
   "id": "80a2a72b-e9a4-4819-a3d6-da9f22de66a3",
   "metadata": {},
   "outputs": [
    {
     "data": {
      "text/plain": [
       "(25005, 8)"
      ]
     },
     "execution_count": 8,
     "metadata": {},
     "output_type": "execute_result"
    }
   ],
   "source": [
    "encoded_seqs.shape\n"
   ]
  },
  {
   "cell_type": "code",
   "execution_count": 9,
   "id": "f275e2b4-694c-4f90-929b-63b7ec4b492d",
   "metadata": {},
   "outputs": [],
   "source": [
    "from sklearn.preprocessing import StandardScaler, MinMaxScaler\n",
    "scaler = MinMaxScaler()\n",
    "scaled_seqs = scaler.fit_transform(encoded_seqs)\n",
    "X_train = scaled_seqs[:20000]\n",
    "X_test = scaled_seqs[20000:]"
   ]
  },
  {
   "cell_type": "code",
   "execution_count": 11,
   "id": "60989b4c-5ded-4ec6-9f9d-cdb2020bbd04",
   "metadata": {},
   "outputs": [],
   "source": [
    "from keras.models import Model, load_model\n",
    "from keras.layers import Input, Dense, Dropout, LSTM\n",
    "from keras.callbacks import ModelCheckpoint, TensorBoard\n",
    "from keras import regularizers\n",
    "\n",
    "input_dim = X_train.shape[1] #features\n",
    "encoding_dim = 8\n",
    "hidden_dim = int(encoding_dim / 2)\n",
    "\n",
    "nb_epoch = 30\n",
    "batch_size = 128\n",
    "learning_rate = 0.1\n",
    "\n",
    "input_layer = Input(shape=(input_dim, ))\n",
    "\n",
    "encoder = Dense(encoding_dim, activation=\"tanh\", activity_regularizer=regularizers.l1(10e-5))(input_layer)\n",
    "encoder = Dense(hidden_dim, activation=\"relu\")(encoder)\n",
    "decoder = Dense(hidden_dim, activation='relu')(encoder)\n",
    "decoder = Dense(encoding_dim, activation='relu')(encoder)\n",
    "decoder = Dense(input_dim, activation='tanh')(decoder)\n",
    "\n",
    "autoencoder = Model(inputs=input_layer, outputs=decoder)"
   ]
  },
  {
   "cell_type": "code",
   "execution_count": 12,
   "id": "bb1a76fe-e00d-473f-8acb-ea4fb8370b6c",
   "metadata": {},
   "outputs": [
    {
     "name": "stderr",
     "output_type": "stream",
     "text": [
      "2021-07-31 13:36:29.225796: I tensorflow/core/profiler/lib/profiler_session.cc:126] Profiler session initializing.\n",
      "2021-07-31 13:36:29.225839: I tensorflow/core/profiler/lib/profiler_session.cc:141] Profiler session started.\n",
      "2021-07-31 13:36:29.226858: I tensorflow/core/profiler/internal/gpu/cupti_tracer.cc:1611] Profiler found 1 GPUs\n",
      "2021-07-31 13:36:29.227585: W tensorflow/stream_executor/platform/default/dso_loader.cc:64] Could not load dynamic library 'libcupti.so.11.2'; dlerror: libcupti.so.11.2: cannot open shared object file: No such file or directory\n",
      "2021-07-31 13:36:29.235557: I tensorflow/stream_executor/platform/default/dso_loader.cc:53] Successfully opened dynamic library libcupti.so\n",
      "2021-07-31 13:36:29.245820: E tensorflow/core/profiler/internal/gpu/cupti_tracer.cc:1661] function cupti_interface_->Subscribe( &subscriber_, (CUpti_CallbackFunc)ApiCallback, this)failed with error CUPTI_ERROR_NOT_INITIALIZED\n",
      "2021-07-31 13:36:29.246064: I tensorflow/core/profiler/lib/profiler_session.cc:159] Profiler session tear down.\n",
      "2021-07-31 13:36:29.387904: I tensorflow/compiler/mlir/mlir_graph_optimization_pass.cc:176] None of the MLIR Optimization Passes are enabled (registered 2)\n",
      "2021-07-31 13:36:29.391102: I tensorflow/core/platform/profile_utils/cpu_utils.cc:114] CPU Frequency: 2495995000 Hz\n"
     ]
    },
    {
     "name": "stdout",
     "output_type": "stream",
     "text": [
      "Epoch 1/30\n"
     ]
    },
    {
     "name": "stderr",
     "output_type": "stream",
     "text": [
      "2021-07-31 13:36:34.908891: I tensorflow/stream_executor/platform/default/dso_loader.cc:53] Successfully opened dynamic library libcublas.so.11\n"
     ]
    },
    {
     "name": "stdout",
     "output_type": "stream",
     "text": [
      " 36/157 [=====>........................] - ETA: 0s - loss: 0.2882 - accuracy: 0.0000e+00"
     ]
    },
    {
     "name": "stderr",
     "output_type": "stream",
     "text": [
      "2021-07-31 13:36:36.424326: I tensorflow/stream_executor/platform/default/dso_loader.cc:53] Successfully opened dynamic library libcublasLt.so.11\n",
      "2021-07-31 13:36:36.424428: I tensorflow/stream_executor/cuda/cuda_blas.cc:1838] TensorFloat-32 will be used for the matrix multiplication. This will only be logged once.\n",
      "2021-07-31 13:36:36.457946: I tensorflow/core/profiler/lib/profiler_session.cc:126] Profiler session initializing.\n",
      "2021-07-31 13:36:36.457994: I tensorflow/core/profiler/lib/profiler_session.cc:141] Profiler session started.\n",
      "2021-07-31 13:36:36.465510: E tensorflow/core/profiler/internal/gpu/cupti_tracer.cc:1661] function cupti_interface_->Subscribe( &subscriber_, (CUpti_CallbackFunc)ApiCallback, this)failed with error CUPTI_ERROR_NOT_INITIALIZED\n",
      "2021-07-31 13:36:36.472477: I tensorflow/core/profiler/lib/profiler_session.cc:66] Profiler session collecting data.\n",
      "2021-07-31 13:36:36.474265: I tensorflow/core/profiler/internal/gpu/cupti_collector.cc:673]  GpuTracer has collected 0 callback api events and 0 activity events. \n",
      "2021-07-31 13:36:36.475302: I tensorflow/core/profiler/lib/profiler_session.cc:159] Profiler session tear down.\n",
      "2021-07-31 13:36:36.479115: I tensorflow/core/profiler/rpc/client/save_profile.cc:137] Creating directory: ./logs/train/plugins/profile/2021_07_31_13_36_36\n",
      "2021-07-31 13:36:36.479701: I tensorflow/core/profiler/rpc/client/save_profile.cc:143] Dumped gzipped tool data for trace.json.gz to ./logs/train/plugins/profile/2021_07_31_13_36_36/WINDOWS-BC4VHAA.trace.json.gz\n",
      "2021-07-31 13:36:36.485191: I tensorflow/core/profiler/rpc/client/save_profile.cc:137] Creating directory: ./logs/train/plugins/profile/2021_07_31_13_36_36\n",
      "2021-07-31 13:36:36.485667: I tensorflow/core/profiler/rpc/client/save_profile.cc:143] Dumped gzipped tool data for memory_profile.json.gz to ./logs/train/plugins/profile/2021_07_31_13_36_36/WINDOWS-BC4VHAA.memory_profile.json.gz\n",
      "2021-07-31 13:36:36.485788: I tensorflow/core/profiler/rpc/client/capture_profile.cc:251] Creating directory: ./logs/train/plugins/profile/2021_07_31_13_36_36Dumped tool data for xplane.pb to ./logs/train/plugins/profile/2021_07_31_13_36_36/WINDOWS-BC4VHAA.xplane.pb\n",
      "Dumped tool data for overview_page.pb to ./logs/train/plugins/profile/2021_07_31_13_36_36/WINDOWS-BC4VHAA.overview_page.pb\n",
      "Dumped tool data for input_pipeline.pb to ./logs/train/plugins/profile/2021_07_31_13_36_36/WINDOWS-BC4VHAA.input_pipeline.pb\n",
      "Dumped tool data for tensorflow_stats.pb to ./logs/train/plugins/profile/2021_07_31_13_36_36/WINDOWS-BC4VHAA.tensorflow_stats.pb\n",
      "Dumped tool data for kernel_stats.pb to ./logs/train/plugins/profile/2021_07_31_13_36_36/WINDOWS-BC4VHAA.kernel_stats.pb\n",
      "\n"
     ]
    },
    {
     "name": "stdout",
     "output_type": "stream",
     "text": [
      "157/157 [==============================] - 8s 6ms/step - loss: 0.2147 - accuracy: 0.0877 - val_loss: 0.0563 - val_accuracy: 0.5153\n",
      "Epoch 2/30\n",
      "157/157 [==============================] - 1s 4ms/step - loss: 0.0462 - accuracy: 0.5011 - val_loss: 0.0336 - val_accuracy: 0.2428\n",
      "Epoch 3/30\n",
      "157/157 [==============================] - 1s 4ms/step - loss: 0.0317 - accuracy: 0.2409 - val_loss: 0.0254 - val_accuracy: 0.2645\n",
      "Epoch 4/30\n",
      "157/157 [==============================] - 1s 4ms/step - loss: 0.0234 - accuracy: 0.4315 - val_loss: 0.0185 - val_accuracy: 0.6709\n",
      "Epoch 5/30\n",
      "157/157 [==============================] - 1s 4ms/step - loss: 0.0175 - accuracy: 0.6688 - val_loss: 0.0151 - val_accuracy: 0.6643\n",
      "Epoch 6/30\n",
      "157/157 [==============================] - 1s 4ms/step - loss: 0.0146 - accuracy: 0.6630 - val_loss: 0.0136 - val_accuracy: 0.6643\n",
      "Epoch 7/30\n",
      "157/157 [==============================] - 1s 4ms/step - loss: 0.0133 - accuracy: 0.6634 - val_loss: 0.0126 - val_accuracy: 0.7025\n",
      "Epoch 8/30\n",
      "157/157 [==============================] - 1s 4ms/step - loss: 0.0122 - accuracy: 0.7294 - val_loss: 0.0115 - val_accuracy: 0.7656\n",
      "Epoch 9/30\n",
      "157/157 [==============================] - 1s 4ms/step - loss: 0.0111 - accuracy: 0.7595 - val_loss: 0.0101 - val_accuracy: 0.7672\n",
      "Epoch 10/30\n",
      "157/157 [==============================] - 1s 4ms/step - loss: 0.0093 - accuracy: 0.7637 - val_loss: 0.0072 - val_accuracy: 0.7680\n",
      "Epoch 11/30\n",
      "157/157 [==============================] - 1s 4ms/step - loss: 0.0067 - accuracy: 0.7695 - val_loss: 0.0059 - val_accuracy: 0.7870\n",
      "Epoch 12/30\n",
      "157/157 [==============================] - 1s 4ms/step - loss: 0.0055 - accuracy: 0.7993 - val_loss: 0.0049 - val_accuracy: 0.8204\n",
      "Epoch 13/30\n",
      "157/157 [==============================] - 1s 4ms/step - loss: 0.0047 - accuracy: 0.8233 - val_loss: 0.0044 - val_accuracy: 0.8328\n",
      "Epoch 14/30\n",
      "157/157 [==============================] - 1s 4ms/step - loss: 0.0044 - accuracy: 0.8301 - val_loss: 0.0042 - val_accuracy: 0.8376\n",
      "Epoch 15/30\n",
      "157/157 [==============================] - 1s 4ms/step - loss: 0.0042 - accuracy: 0.8306 - val_loss: 0.0041 - val_accuracy: 0.8412\n",
      "Epoch 16/30\n",
      "157/157 [==============================] - 1s 4ms/step - loss: 0.0041 - accuracy: 0.8353 - val_loss: 0.0040 - val_accuracy: 0.8422\n",
      "Epoch 17/30\n",
      "157/157 [==============================] - 1s 4ms/step - loss: 0.0040 - accuracy: 0.8388 - val_loss: 0.0040 - val_accuracy: 0.8420\n",
      "Epoch 18/30\n",
      "157/157 [==============================] - 1s 4ms/step - loss: 0.0039 - accuracy: 0.8328 - val_loss: 0.0040 - val_accuracy: 0.8410\n",
      "Epoch 19/30\n",
      "157/157 [==============================] - 1s 4ms/step - loss: 0.0039 - accuracy: 0.8388 - val_loss: 0.0039 - val_accuracy: 0.8418\n",
      "Epoch 20/30\n",
      "157/157 [==============================] - 1s 4ms/step - loss: 0.0039 - accuracy: 0.8340 - val_loss: 0.0039 - val_accuracy: 0.8390\n",
      "Epoch 21/30\n",
      "157/157 [==============================] - 1s 4ms/step - loss: 0.0039 - accuracy: 0.8350 - val_loss: 0.0039 - val_accuracy: 0.8386\n",
      "Epoch 22/30\n",
      "157/157 [==============================] - 1s 4ms/step - loss: 0.0039 - accuracy: 0.8315 - val_loss: 0.0039 - val_accuracy: 0.8390\n",
      "Epoch 23/30\n",
      "157/157 [==============================] - 1s 4ms/step - loss: 0.0039 - accuracy: 0.8380 - val_loss: 0.0039 - val_accuracy: 0.8400\n",
      "Epoch 24/30\n",
      "157/157 [==============================] - 1s 4ms/step - loss: 0.0039 - accuracy: 0.8407 - val_loss: 0.0039 - val_accuracy: 0.8362\n",
      "Epoch 25/30\n",
      "157/157 [==============================] - 1s 4ms/step - loss: 0.0038 - accuracy: 0.8383 - val_loss: 0.0039 - val_accuracy: 0.8416\n",
      "Epoch 26/30\n",
      "157/157 [==============================] - 1s 4ms/step - loss: 0.0038 - accuracy: 0.8380 - val_loss: 0.0039 - val_accuracy: 0.8416\n",
      "Epoch 27/30\n",
      "157/157 [==============================] - 1s 4ms/step - loss: 0.0038 - accuracy: 0.8371 - val_loss: 0.0039 - val_accuracy: 0.8404\n",
      "Epoch 28/30\n",
      "157/157 [==============================] - 1s 4ms/step - loss: 0.0038 - accuracy: 0.8357 - val_loss: 0.0038 - val_accuracy: 0.8416\n",
      "Epoch 29/30\n",
      "157/157 [==============================] - 1s 4ms/step - loss: 0.0038 - accuracy: 0.8362 - val_loss: 0.0038 - val_accuracy: 0.8404\n",
      "Epoch 30/30\n",
      "157/157 [==============================] - 1s 4ms/step - loss: 0.0038 - accuracy: 0.8387 - val_loss: 0.0038 - val_accuracy: 0.8412\n"
     ]
    }
   ],
   "source": [
    "autoencoder.compile(optimizer='adam', \n",
    "                    loss='mean_squared_error', \n",
    "                    metrics=['accuracy'])\n",
    "\n",
    "checkpointer = ModelCheckpoint(filepath=\"model_seqs2.h5\",\n",
    "                               verbose=0,\n",
    "                               save_best_only=True)\n",
    "\n",
    "tensorboard = TensorBoard(log_dir='./logs',\n",
    "                          histogram_freq=0,\n",
    "                          write_graph=True,\n",
    "                          write_images=True)\n",
    "\n",
    "history = autoencoder.fit(X_train, X_train,\n",
    "                    epochs=nb_epoch,\n",
    "                    batch_size=batch_size,\n",
    "                    shuffle=True,\n",
    "                    validation_data=(X_test, X_test),\n",
    "                    verbose=1,\n",
    "                    callbacks=[checkpointer, tensorboard]).history"
   ]
  },
  {
   "cell_type": "code",
   "execution_count": 13,
   "id": "7d2c7425-1272-49fd-9cf4-c87d52c3eb26",
   "metadata": {},
   "outputs": [
    {
     "data": {
      "image/png": "[encoded data removed]",
      "text/plain": [
       "<Figure size 864x432 with 1 Axes>"
      ]
     },
     "metadata": {},
     "output_type": "display_data"
    }
   ],
   "source": [
    "plt.plot(history['loss'])\n",
    "plt.plot(history['val_loss'])\n",
    "plt.title('model loss')\n",
    "plt.ylabel('loss')\n",
    "plt.xlabel('epoch')\n",
    "plt.legend(['train', 'test'], loc='upper right');"
   ]
  },
  {
   "cell_type": "code",
   "execution_count": 14,
   "id": "ca646d2a-75aa-44f1-b466-d6a2467d7111",
   "metadata": {},
   "outputs": [
    {
     "name": "stdout",
     "output_type": "stream",
     "text": [
      "Min Loss:0.00381420087069273\n"
     ]
    }
   ],
   "source": [
    "autoencoder = load_model('model_seqs2.h5')\n",
    "print(f'Min Loss:{np.min(history[\"loss\"])}')"
   ]
  },
  {
   "cell_type": "code",
   "execution_count": 15,
   "id": "05eb783f-6acb-4d40-a400-4fb8fb2b5ec5",
   "metadata": {},
   "outputs": [
    {
     "name": "stdout",
     "output_type": "stream",
     "text": [
      "MSE: 0.1389976900920129\n"
     ]
    }
   ],
   "source": [
    "#get the MSE error term\n",
    "predictions = autoencoder.predict(scaled_seqs)\n",
    "mse = np.mean(np.power(scaled_seqs - predictions, 2), axis=1)\n",
    "print('MSE:', np.quantile(mse, 0.9999)) # => the 9999% quatile - only 0.0001% have error score higher than that"
   ]
  },
  {
   "cell_type": "code",
   "execution_count": 16,
   "id": "d6b699ee-4b66-4096-bac8-849cbde045d3",
   "metadata": {},
   "outputs": [],
   "source": [
    "\n",
    "#encode all the data\n",
    "encoded_seqs = encode_sequence_list(seqs_ds.iloc[:,0])\n",
    "#scale it\n",
    "scaled_data = MinMaxScaler().fit_transform(encoded_seqs)\n",
    "#predict it\n",
    "predicted = autoencoder.predict(scaled_data)\n",
    "#get the error term\n",
    "mse = np.mean(np.power(scaled_data - predicted, 2), axis=1)\n",
    "#now add them to our data frame\n",
    "seqs_ds['MSE'] = mse"
   ]
  },
  {
   "cell_type": "code",
   "execution_count": 17,
   "id": "495fbf06-d2e2-47fb-9176-abbe42e69f1f",
   "metadata": {},
   "outputs": [
    {
     "data": {
      "text/html": [
       "<div>\n",
       "<style scoped>\n",
       "    .dataframe tbody tr th:only-of-type {\n",
       "        vertical-align: middle;\n",
       "    }\n",
       "\n",
       "    .dataframe tbody tr th {\n",
       "        vertical-align: top;\n",
       "    }\n",
       "\n",
       "    .dataframe thead th {\n",
       "        text-align: right;\n",
       "    }\n",
       "</style>\n",
       "<table border=\"1\" class=\"dataframe\">\n",
       "  <thead>\n",
       "    <tr style=\"text-align: right;\">\n",
       "      <th></th>\n",
       "      <th>0</th>\n",
       "      <th>MSE</th>\n",
       "    </tr>\n",
       "  </thead>\n",
       "  <tbody>\n",
       "    <tr>\n",
       "      <th>0</th>\n",
       "      <td>CDEA2OOO</td>\n",
       "      <td>0.002310</td>\n",
       "    </tr>\n",
       "    <tr>\n",
       "      <th>1</th>\n",
       "      <td>CBFE1WWL</td>\n",
       "      <td>0.004034</td>\n",
       "    </tr>\n",
       "    <tr>\n",
       "      <th>2</th>\n",
       "      <td>DCCD2OWM</td>\n",
       "      <td>0.000423</td>\n",
       "    </tr>\n",
       "    <tr>\n",
       "      <th>3</th>\n",
       "      <td>CFAC0POW</td>\n",
       "      <td>0.004191</td>\n",
       "    </tr>\n",
       "    <tr>\n",
       "      <th>4</th>\n",
       "      <td>FACC2ZLW</td>\n",
       "      <td>0.002698</td>\n",
       "    </tr>\n",
       "    <tr>\n",
       "      <th>...</th>\n",
       "      <td>...</td>\n",
       "      <td>...</td>\n",
       "    </tr>\n",
       "    <tr>\n",
       "      <th>25000</th>\n",
       "      <td>XYDC2DCA</td>\n",
       "      <td>0.232618</td>\n",
       "    </tr>\n",
       "    <tr>\n",
       "      <th>25001</th>\n",
       "      <td>TXSX1ABC</td>\n",
       "      <td>0.355796</td>\n",
       "    </tr>\n",
       "    <tr>\n",
       "      <th>25002</th>\n",
       "      <td>RNIU4XRE</td>\n",
       "      <td>0.129347</td>\n",
       "    </tr>\n",
       "    <tr>\n",
       "      <th>25003</th>\n",
       "      <td>AABDXUEI</td>\n",
       "      <td>0.003842</td>\n",
       "    </tr>\n",
       "    <tr>\n",
       "      <th>25004</th>\n",
       "      <td>SDRAC5RF</td>\n",
       "      <td>0.148657</td>\n",
       "    </tr>\n",
       "  </tbody>\n",
       "</table>\n",
       "<p>25005 rows × 2 columns</p>\n",
       "</div>"
      ],
      "text/plain": [
       "              0       MSE\n",
       "0      CDEA2OOO  0.002310\n",
       "1      CBFE1WWL  0.004034\n",
       "2      DCCD2OWM  0.000423\n",
       "3      CFAC0POW  0.004191\n",
       "4      FACC2ZLW  0.002698\n",
       "...         ...       ...\n",
       "25000  XYDC2DCA  0.232618\n",
       "25001  TXSX1ABC  0.355796\n",
       "25002  RNIU4XRE  0.129347\n",
       "25003  AABDXUEI  0.003842\n",
       "25004  SDRAC5RF  0.148657\n",
       "\n",
       "[25005 rows x 2 columns]"
      ]
     },
     "metadata": {},
     "output_type": "display_data"
    }
   ],
   "source": [
    "display(seqs_ds)\n"
   ]
  },
  {
   "cell_type": "code",
   "execution_count": 18,
   "id": "9c44bf11-0fb6-43d9-87b5-7100a28e6082",
   "metadata": {},
   "outputs": [
    {
     "name": "stdout",
     "output_type": "stream",
     "text": [
      "MSE 0.9999 threshhold:0.13899413278763298\n"
     ]
    }
   ],
   "source": [
    "\n",
    "mse_threshold = np.quantile(seqs_ds['MSE'], 0.9999)\n",
    "print(f'MSE 0.9999 threshhold:{mse_threshold}')"
   ]
  },
  {
   "cell_type": "code",
   "execution_count": 19,
   "id": "6776a954-264b-47b7-92f0-635161ca81c5",
   "metadata": {},
   "outputs": [],
   "source": [
    "seqs_ds['MSE_Outlier'] = 0\n",
    "seqs_ds.loc[seqs_ds['MSE'] > mse_threshold, 'MSE_Outlier'] = 1"
   ]
  },
  {
   "cell_type": "code",
   "execution_count": 20,
   "id": "b9d5e9e1-fac3-4a1a-bb9f-30d623618086",
   "metadata": {},
   "outputs": [
    {
     "name": "stdout",
     "output_type": "stream",
     "text": [
      "Num of MSE outlier:3\n"
     ]
    },
    {
     "data": {
      "text/html": [
       "<div>\n",
       "<style scoped>\n",
       "    .dataframe tbody tr th:only-of-type {\n",
       "        vertical-align: middle;\n",
       "    }\n",
       "\n",
       "    .dataframe tbody tr th {\n",
       "        vertical-align: top;\n",
       "    }\n",
       "\n",
       "    .dataframe thead th {\n",
       "        text-align: right;\n",
       "    }\n",
       "</style>\n",
       "<table border=\"1\" class=\"dataframe\">\n",
       "  <thead>\n",
       "    <tr style=\"text-align: right;\">\n",
       "      <th></th>\n",
       "      <th>0</th>\n",
       "      <th>MSE</th>\n",
       "      <th>MSE_Outlier</th>\n",
       "    </tr>\n",
       "  </thead>\n",
       "  <tbody>\n",
       "    <tr>\n",
       "      <th>25000</th>\n",
       "      <td>XYDC2DCA</td>\n",
       "      <td>0.232618</td>\n",
       "      <td>1</td>\n",
       "    </tr>\n",
       "    <tr>\n",
       "      <th>25001</th>\n",
       "      <td>TXSX1ABC</td>\n",
       "      <td>0.355796</td>\n",
       "      <td>1</td>\n",
       "    </tr>\n",
       "    <tr>\n",
       "      <th>25002</th>\n",
       "      <td>RNIU4XRE</td>\n",
       "      <td>0.129347</td>\n",
       "      <td>0</td>\n",
       "    </tr>\n",
       "    <tr>\n",
       "      <th>25003</th>\n",
       "      <td>AABDXUEI</td>\n",
       "      <td>0.003842</td>\n",
       "      <td>0</td>\n",
       "    </tr>\n",
       "    <tr>\n",
       "      <th>25004</th>\n",
       "      <td>SDRAC5RF</td>\n",
       "      <td>0.148657</td>\n",
       "      <td>1</td>\n",
       "    </tr>\n",
       "  </tbody>\n",
       "</table>\n",
       "</div>"
      ],
      "text/plain": [
       "              0       MSE  MSE_Outlier\n",
       "25000  XYDC2DCA  0.232618            1\n",
       "25001  TXSX1ABC  0.355796            1\n",
       "25002  RNIU4XRE  0.129347            0\n",
       "25003  AABDXUEI  0.003842            0\n",
       "25004  SDRAC5RF  0.148657            1"
      ]
     },
     "execution_count": 20,
     "metadata": {},
     "output_type": "execute_result"
    }
   ],
   "source": [
    "print(f\"Num of MSE outlier:{seqs_ds['MSE_Outlier'].sum()}\")\n",
    "\n",
    "seqs_ds.iloc[25000:]"
   ]
  },
  {
   "cell_type": "code",
   "execution_count": null,
   "id": "16ee9587-c518-4347-b869-431084e3369a",
   "metadata": {},
   "outputs": [],
   "source": []
  }
 ],
 "metadata": {
  "kernelspec": {
   "display_name": "Python 3 (ipykernel)",
   "language": "python",
   "name": "python3"
  },
  "language_info": {
   "codemirror_mode": {
    "name": "ipython",
    "version": 3
   },
   "file_extension": ".py",
   "mimetype": "text/x-python",
   "name": "python",
   "nbconvert_exporter": "python",
   "pygments_lexer": "ipython3",
   "version": "3.8.10"
  }
 },
 "nbformat": 4,
 "nbformat_minor": 5
}
