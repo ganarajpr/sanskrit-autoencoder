{
 "cells": [
  {
   "cell_type": "code",
   "execution_count": 38,
   "id": "48c4cf40-12f9-4545-81ee-0872d92c9a9a",
   "metadata": {},
   "outputs": [],
   "source": [
    "import random\n",
    "import pandas as pd\n",
    "import numpy as np\n",
    "import matplotlib.pyplot as plt\n",
    "import seaborn as sns\n",
    "%matplotlib inline\n",
    "from pylab import rcParams\n",
    "\n",
    "rcParams['figure.figsize'] = 12, 6\n",
    "sns.set(style='whitegrid', palette='muted', font_scale=1.5)"
   ]
  },
  {
   "cell_type": "code",
   "execution_count": 44,
   "id": "59eb6d73-232d-4326-ad83-2261dcaf005d",
   "metadata": {},
   "outputs": [],
   "source": [
    "from keras.preprocessing.sequence import pad_sequences\n",
    "#function that convert a char seqs to numbers seqs \n",
    "#(it does a little more but lets leave it for now)\n",
    "def encode_sequence_list(seqs, feat_n=0):\n",
    "    encoded_seqs = []\n",
    "    for seq in seqs:\n",
    "        encoded_seq = [char_to_int[c] for c in seq]\n",
    "        encoded_seqs.append(encoded_seq)\n",
    "    if(feat_n > 0):\n",
    "        encoded_seqs.append(np.zeros(feat_n))\n",
    "    return pad_sequences(encoded_seqs, padding='post')\n",
    "\n",
    "def decode_sequence_list(seqs):\n",
    "    decoded_seqs = []\n",
    "    for seq in seqs:\n",
    "        decoded_seq = [int_to_char[i] for i in seq]\n",
    "        decoded_seqs.append(decoded_seq)\n",
    "    return decoded_seqs"
   ]
  },
  {
   "cell_type": "code",
   "execution_count": 46,
   "id": "38768af9-104e-4c28-abaa-f3297b0eed18",
   "metadata": {},
   "outputs": [
    {
     "data": {
      "text/plain": [
       "['नानुमन्यसे', 'सुदारुणालांकृतवेषधारिणा', 'शलभाः', 'गणित']"
      ]
     },
     "execution_count": 46,
     "metadata": {},
     "output_type": "execute_result"
    }
   ],
   "source": [
    "uniqWords = pd.read_csv('dev-uniq.csv')\n",
    "wlist = uniqWords.values.flatten().tolist()\n",
    "wlist[1:5]"
   ]
  },
  {
   "cell_type": "code",
   "execution_count": 47,
   "id": "e85e1c40-5ca1-430a-ba26-48a10c5d6800",
   "metadata": {},
   "outputs": [
    {
     "name": "stdout",
     "output_type": "stream",
     "text": [
      "207180 207180\n"
     ]
    }
   ],
   "source": [
    "filter_object = filter(lambda x: x != \" \", wlist)\n",
    "\n",
    "without_empty_strings = list(filter_object)\n",
    "\n",
    "print(len(wlist),len(without_empty_strings))"
   ]
  },
  {
   "cell_type": "code",
   "execution_count": 48,
   "id": "d19cc9d5-ed60-484c-93a6-b63df200ce29",
   "metadata": {},
   "outputs": [
    {
     "data": {
      "text/plain": [
       "['द्या', 'वा', 'ह्मॊ', 'प्ला']"
      ]
     },
     "execution_count": 48,
     "metadata": {},
     "output_type": "execute_result"
    }
   ],
   "source": [
    "unph = pd.read_csv('devph.csv')\n",
    "ph = unph.values.flatten().tolist()\n",
    "ph[1:5]"
   ]
  },
  {
   "cell_type": "code",
   "execution_count": 49,
   "id": "e0f095d5-ba31-4947-b672-3c48dbfe068c",
   "metadata": {},
   "outputs": [
    {
     "name": "stdout",
     "output_type": "stream",
     "text": [
      "Done: 0\n",
      "Done: 1000\n",
      "Done: 2000\n",
      "Done: 3000\n",
      "Done: 4000\n",
      "{'ख', 'ल', 'व', 'ै', 'ऐ', 'ि', 'म', 'झ', 'े', '्', 'ट', 'श', 'न', 'ब', 'ओ', 'ं', 'ढ', 'ग', 'भ', 'त', 'ी', 'ई', 'ड', 'द', 'च', 'ौ', 'ा', 'र', 'ः', 'ऽ', '-', 'स', 'थ', 'ू', 'अ', 'य', 'प', 'ॢ', 'क', 'ज', 'ॄ', 'ृ', 'ह', 'ऋ', 'ॊ', 'ठ', 'उ', 'ु', 'फ', 'ँ', 'घ', 'ऊ', 'इ', 'ञ', 'ध', 'ए', 'छ', 'ष', 'आ', 'ङ', 'ण', 'औ'}\n"
     ]
    }
   ],
   "source": [
    "#Build Char list to create char index\n",
    "letters = set([])\n",
    "ph[0][0]\n",
    "#test = set(list(ph[0]))\n",
    "#test\n",
    "for i in range(len(ph)):\n",
    "    if i%1000 == 0:\n",
    "        print(\"Done:\", i)\n",
    "    letters = letters.union(set(ph[i]))\n",
    "print(letters)"
   ]
  },
  {
   "cell_type": "code",
   "execution_count": 50,
   "id": "6c81136c-4563-4a48-aed0-a184ca47bd02",
   "metadata": {},
   "outputs": [],
   "source": [
    "char_to_int = dict((c, i) for i, c in enumerate(letters))\n",
    "int_to_char = dict((i, c) for i, c in enumerate(letters))"
   ]
  },
  {
   "cell_type": "code",
   "execution_count": 51,
   "id": "6ab2d09c-5a42-456b-b18b-7e1a704069e5",
   "metadata": {},
   "outputs": [
    {
     "name": "stdout",
     "output_type": "stream",
     "text": [
      "पृष्टॊ\n",
      "[36 41 57  9 10 44  0  0  0  0  0  0  0  0  0  0  0  0  0  0  0  0  0  0\n",
      "  0  0  0  0  0  0  0  0  0  0  0  0  0  0  0  0  0  0  0  0  0  0  0  0\n",
      "  0  0  0  0  0  0  0  0  0]\n"
     ]
    }
   ],
   "source": [
    "#wlist+= ['सेल्व ', 'अलघन', 'नानु','थोमस', 'नीनु' ]\n",
    "seqs_ds = pd.DataFrame(wlist)\n",
    "encoded_seqs = encode_sequence_list(wlist)\n",
    "# mix everything up\n",
    "#np.random.shuffle(encoded_seqs)\n",
    "print(wlist[10])\n",
    "print(encoded_seqs[10])"
   ]
  },
  {
   "cell_type": "code",
   "execution_count": 52,
   "id": "80a2a72b-e9a4-4819-a3d6-da9f22de66a3",
   "metadata": {},
   "outputs": [
    {
     "data": {
      "text/plain": [
       "(207180, 57)"
      ]
     },
     "execution_count": 52,
     "metadata": {},
     "output_type": "execute_result"
    }
   ],
   "source": [
    "encoded_seqs.shape"
   ]
  },
  {
   "cell_type": "code",
   "execution_count": 53,
   "id": "f275e2b4-694c-4f90-929b-63b7ec4b492d",
   "metadata": {},
   "outputs": [
    {
     "data": {
      "text/plain": [
       "57"
      ]
     },
     "execution_count": 53,
     "metadata": {},
     "output_type": "execute_result"
    }
   ],
   "source": [
    "from sklearn.preprocessing import StandardScaler, MinMaxScaler\n",
    "scaler = MinMaxScaler()\n",
    "scaled_seqs = scaler.fit_transform(encoded_seqs)\n",
    "#X_train = scaled_seqs[:20000]\n",
    "#X_test = scaled_seqs[20000:]\n",
    "from sklearn.model_selection import train_test_split\n",
    "X_train, X_test= train_test_split(scaled_seqs, test_size=0.20, random_state=42)\n",
    "X_train.shape[1]"
   ]
  },
  {
   "cell_type": "code",
   "execution_count": 54,
   "id": "60989b4c-5ded-4ec6-9f9d-cdb2020bbd04",
   "metadata": {},
   "outputs": [
    {
     "name": "stderr",
     "output_type": "stream",
     "text": [
      "2021-08-01 15:22:24.853868: I tensorflow/stream_executor/platform/default/dso_loader.cc:53] Successfully opened dynamic library libcuda.so.1\n",
      "2021-08-01 15:22:25.203711: I tensorflow/stream_executor/cuda/cuda_gpu_executor.cc:923] could not open file to read NUMA node: /sys/bus/pci/devices/0000:01:00.0/numa_node\n",
      "Your kernel may have been built without NUMA support.\n",
      "2021-08-01 15:22:25.204000: I tensorflow/core/common_runtime/gpu/gpu_device.cc:1733] Found device 0 with properties: \n",
      "pciBusID: 0000:01:00.0 name: NVIDIA GeForce RTX 3060 computeCapability: 8.6\n",
      "coreClock: 1.882GHz coreCount: 28 deviceMemorySize: 12.00GiB deviceMemoryBandwidth: 335.32GiB/s\n",
      "2021-08-01 15:22:25.204064: I tensorflow/stream_executor/platform/default/dso_loader.cc:53] Successfully opened dynamic library libcudart.so.11.0\n",
      "2021-08-01 15:22:25.227644: I tensorflow/stream_executor/platform/default/dso_loader.cc:53] Successfully opened dynamic library libcublas.so.11\n",
      "2021-08-01 15:22:25.227696: I tensorflow/stream_executor/platform/default/dso_loader.cc:53] Successfully opened dynamic library libcublasLt.so.11\n",
      "2021-08-01 15:22:25.238266: I tensorflow/stream_executor/platform/default/dso_loader.cc:53] Successfully opened dynamic library libcufft.so.10\n",
      "2021-08-01 15:22:25.242035: I tensorflow/stream_executor/platform/default/dso_loader.cc:53] Successfully opened dynamic library libcurand.so.10\n",
      "2021-08-01 15:22:25.246268: I tensorflow/stream_executor/platform/default/dso_loader.cc:53] Successfully opened dynamic library libcusolver.so.11\n",
      "2021-08-01 15:22:25.251480: I tensorflow/stream_executor/platform/default/dso_loader.cc:53] Successfully opened dynamic library libcusparse.so.11\n",
      "2021-08-01 15:22:25.252668: I tensorflow/stream_executor/platform/default/dso_loader.cc:53] Successfully opened dynamic library libcudnn.so.8\n",
      "2021-08-01 15:22:25.253285: I tensorflow/stream_executor/cuda/cuda_gpu_executor.cc:923] could not open file to read NUMA node: /sys/bus/pci/devices/0000:01:00.0/numa_node\n",
      "Your kernel may have been built without NUMA support.\n",
      "2021-08-01 15:22:25.254257: I tensorflow/stream_executor/cuda/cuda_gpu_executor.cc:923] could not open file to read NUMA node: /sys/bus/pci/devices/0000:01:00.0/numa_node\n",
      "Your kernel may have been built without NUMA support.\n",
      "2021-08-01 15:22:25.255213: I tensorflow/core/common_runtime/gpu/gpu_device.cc:1871] Adding visible gpu devices: 0\n",
      "2021-08-01 15:22:25.255915: I tensorflow/core/platform/cpu_feature_guard.cc:142] This TensorFlow binary is optimized with oneAPI Deep Neural Network Library (oneDNN) to use the following CPU instructions in performance-critical operations:  AVX2 AVX512F FMA\n",
      "To enable them in other operations, rebuild TensorFlow with the appropriate compiler flags.\n",
      "2021-08-01 15:22:25.258960: I tensorflow/stream_executor/cuda/cuda_gpu_executor.cc:923] could not open file to read NUMA node: /sys/bus/pci/devices/0000:01:00.0/numa_node\n",
      "Your kernel may have been built without NUMA support.\n",
      "2021-08-01 15:22:25.259269: I tensorflow/core/common_runtime/gpu/gpu_device.cc:1733] Found device 0 with properties: \n",
      "pciBusID: 0000:01:00.0 name: NVIDIA GeForce RTX 3060 computeCapability: 8.6\n",
      "coreClock: 1.882GHz coreCount: 28 deviceMemorySize: 12.00GiB deviceMemoryBandwidth: 335.32GiB/s\n",
      "2021-08-01 15:22:25.259776: I tensorflow/stream_executor/cuda/cuda_gpu_executor.cc:923] could not open file to read NUMA node: /sys/bus/pci/devices/0000:01:00.0/numa_node\n",
      "Your kernel may have been built without NUMA support.\n",
      "2021-08-01 15:22:25.260361: I tensorflow/stream_executor/cuda/cuda_gpu_executor.cc:923] could not open file to read NUMA node: /sys/bus/pci/devices/0000:01:00.0/numa_node\n",
      "Your kernel may have been built without NUMA support.\n",
      "2021-08-01 15:22:25.260513: I tensorflow/core/common_runtime/gpu/gpu_device.cc:1871] Adding visible gpu devices: 0\n",
      "2021-08-01 15:22:25.260982: I tensorflow/stream_executor/platform/default/dso_loader.cc:53] Successfully opened dynamic library libcudart.so.11.0\n",
      "2021-08-01 15:22:26.503375: I tensorflow/core/common_runtime/gpu/gpu_device.cc:1258] Device interconnect StreamExecutor with strength 1 edge matrix:\n",
      "2021-08-01 15:22:26.503479: I tensorflow/core/common_runtime/gpu/gpu_device.cc:1264]      0 \n",
      "2021-08-01 15:22:26.503485: I tensorflow/core/common_runtime/gpu/gpu_device.cc:1277] 0:   N \n",
      "2021-08-01 15:22:26.504938: I tensorflow/stream_executor/cuda/cuda_gpu_executor.cc:923] could not open file to read NUMA node: /sys/bus/pci/devices/0000:01:00.0/numa_node\n",
      "Your kernel may have been built without NUMA support.\n",
      "2021-08-01 15:22:26.505596: I tensorflow/stream_executor/cuda/cuda_gpu_executor.cc:923] could not open file to read NUMA node: /sys/bus/pci/devices/0000:01:00.0/numa_node\n",
      "Your kernel may have been built without NUMA support.\n",
      "2021-08-01 15:22:26.505782: I tensorflow/core/common_runtime/gpu/gpu_device.cc:1501] Could not identify NUMA node of platform GPU id 0, defaulting to 0.  Your kernel may not have been built with NUMA support.\n",
      "2021-08-01 15:22:26.506623: I tensorflow/stream_executor/cuda/cuda_gpu_executor.cc:923] could not open file to read NUMA node: /sys/bus/pci/devices/0000:01:00.0/numa_node\n",
      "Your kernel may have been built without NUMA support.\n",
      "2021-08-01 15:22:26.507113: I tensorflow/core/common_runtime/gpu/gpu_device.cc:1418] Created TensorFlow device (/job:localhost/replica:0/task:0/device:GPU:0 with 9586 MB memory) -> physical GPU (device: 0, name: NVIDIA GeForce RTX 3060, pci bus id: 0000:01:00.0, compute capability: 8.6)\n"
     ]
    }
   ],
   "source": [
    "from keras.models import Model, load_model\n",
    "from keras.layers import Input, Dense, Dropout, LSTM\n",
    "from keras.callbacks import ModelCheckpoint, TensorBoard\n",
    "from keras import regularizers\n",
    "\n",
    "input_dim = X_train.shape[1] #features\n",
    "encoding_dim = len(letters)\n",
    "hidden_dim = int(encoding_dim / 2)\n",
    "\n",
    "nb_epoch = 60\n",
    "batch_size = 128\n",
    "learning_rate = 0.1\n",
    "\n",
    "input_layer = Input(shape=(input_dim, ))\n",
    "\n",
    "encoder = Dense(encoding_dim, activation=\"tanh\", activity_regularizer=regularizers.l1(10e-5))(input_layer)\n",
    "encoder = Dense(hidden_dim, activation=\"relu\")(encoder)\n",
    "decoder = Dense(hidden_dim, activation='relu')(encoder)\n",
    "decoder = Dense(encoding_dim, activation='relu')(encoder)\n",
    "decoder = Dense(input_dim, activation='tanh')(decoder)\n",
    "\n",
    "autoencoder = Model(inputs=input_layer, outputs=decoder)"
   ]
  },
  {
   "cell_type": "code",
   "execution_count": null,
   "id": "bb1a76fe-e00d-473f-8acb-ea4fb8370b6c",
   "metadata": {},
   "outputs": [
    {
     "name": "stderr",
     "output_type": "stream",
     "text": [
      "2021-08-01 15:22:39.082679: I tensorflow/core/profiler/lib/profiler_session.cc:126] Profiler session initializing.\n",
      "2021-08-01 15:22:39.082807: I tensorflow/core/profiler/lib/profiler_session.cc:141] Profiler session started.\n",
      "2021-08-01 15:22:39.083741: I tensorflow/core/profiler/internal/gpu/cupti_tracer.cc:1611] Profiler found 1 GPUs\n",
      "2021-08-01 15:22:39.085243: W tensorflow/stream_executor/platform/default/dso_loader.cc:64] Could not load dynamic library 'libcupti.so.11.2'; dlerror: libcupti.so.11.2: cannot open shared object file: No such file or directory\n",
      "2021-08-01 15:22:39.096059: I tensorflow/stream_executor/platform/default/dso_loader.cc:53] Successfully opened dynamic library libcupti.so\n",
      "2021-08-01 15:22:39.110760: E tensorflow/core/profiler/internal/gpu/cupti_tracer.cc:1661] function cupti_interface_->Subscribe( &subscriber_, (CUpti_CallbackFunc)ApiCallback, this)failed with error CUPTI_ERROR_NOT_INITIALIZED\n",
      "2021-08-01 15:22:39.111010: I tensorflow/core/profiler/lib/profiler_session.cc:159] Profiler session tear down.\n",
      "2021-08-01 15:22:39.309578: I tensorflow/compiler/mlir/mlir_graph_optimization_pass.cc:176] None of the MLIR Optimization Passes are enabled (registered 2)\n",
      "2021-08-01 15:22:39.312637: I tensorflow/core/platform/profile_utils/cpu_utils.cc:114] CPU Frequency: 2495995000 Hz\n"
     ]
    },
    {
     "name": "stdout",
     "output_type": "stream",
     "text": [
      "Epoch 1/60\n"
     ]
    },
    {
     "name": "stderr",
     "output_type": "stream",
     "text": [
      "2021-08-01 15:22:44.734225: I tensorflow/stream_executor/platform/default/dso_loader.cc:53] Successfully opened dynamic library libcublas.so.11\n"
     ]
    },
    {
     "name": "stdout",
     "output_type": "stream",
     "text": [
      "  38/1295 [..............................] - ETA: 5s - loss: 0.0284 - accuracy: 0.1555  "
     ]
    },
    {
     "name": "stderr",
     "output_type": "stream",
     "text": [
      "2021-08-01 15:22:48.252533: I tensorflow/stream_executor/platform/default/dso_loader.cc:53] Successfully opened dynamic library libcublasLt.so.11\n",
      "2021-08-01 15:22:48.252705: I tensorflow/stream_executor/cuda/cuda_blas.cc:1838] TensorFloat-32 will be used for the matrix multiplication. This will only be logged once.\n",
      "2021-08-01 15:22:48.281822: I tensorflow/core/profiler/lib/profiler_session.cc:126] Profiler session initializing.\n",
      "2021-08-01 15:22:48.281880: I tensorflow/core/profiler/lib/profiler_session.cc:141] Profiler session started.\n",
      "2021-08-01 15:22:48.289417: E tensorflow/core/profiler/internal/gpu/cupti_tracer.cc:1661] function cupti_interface_->Subscribe( &subscriber_, (CUpti_CallbackFunc)ApiCallback, this)failed with error CUPTI_ERROR_NOT_INITIALIZED\n",
      "2021-08-01 15:22:48.296927: I tensorflow/core/profiler/lib/profiler_session.cc:66] Profiler session collecting data.\n",
      "2021-08-01 15:22:48.300242: I tensorflow/core/profiler/internal/gpu/cupti_collector.cc:673]  GpuTracer has collected 0 callback api events and 0 activity events. \n",
      "2021-08-01 15:22:48.301200: I tensorflow/core/profiler/lib/profiler_session.cc:159] Profiler session tear down.\n",
      "2021-08-01 15:22:48.305547: I tensorflow/core/profiler/rpc/client/save_profile.cc:137] Creating directory: ./logs/train/plugins/profile/2021_08_01_15_22_48\n",
      "2021-08-01 15:22:48.306010: I tensorflow/core/profiler/rpc/client/save_profile.cc:143] Dumped gzipped tool data for trace.json.gz to ./logs/train/plugins/profile/2021_08_01_15_22_48/WINDOWS-BC4VHAA.trace.json.gz\n",
      "2021-08-01 15:22:48.311581: I tensorflow/core/profiler/rpc/client/save_profile.cc:137] Creating directory: ./logs/train/plugins/profile/2021_08_01_15_22_48\n",
      "2021-08-01 15:22:48.312219: I tensorflow/core/profiler/rpc/client/save_profile.cc:143] Dumped gzipped tool data for memory_profile.json.gz to ./logs/train/plugins/profile/2021_08_01_15_22_48/WINDOWS-BC4VHAA.memory_profile.json.gz\n",
      "2021-08-01 15:22:48.312488: I tensorflow/core/profiler/rpc/client/capture_profile.cc:251] Creating directory: ./logs/train/plugins/profile/2021_08_01_15_22_48Dumped tool data for xplane.pb to ./logs/train/plugins/profile/2021_08_01_15_22_48/WINDOWS-BC4VHAA.xplane.pb\n",
      "Dumped tool data for overview_page.pb to ./logs/train/plugins/profile/2021_08_01_15_22_48/WINDOWS-BC4VHAA.overview_page.pb\n",
      "Dumped tool data for input_pipeline.pb to ./logs/train/plugins/profile/2021_08_01_15_22_48/WINDOWS-BC4VHAA.input_pipeline.pb\n",
      "Dumped tool data for tensorflow_stats.pb to ./logs/train/plugins/profile/2021_08_01_15_22_48/WINDOWS-BC4VHAA.tensorflow_stats.pb\n",
      "Dumped tool data for kernel_stats.pb to ./logs/train/plugins/profile/2021_08_01_15_22_48/WINDOWS-BC4VHAA.kernel_stats.pb\n",
      "\n"
     ]
    },
    {
     "name": "stdout",
     "output_type": "stream",
     "text": [
      "1295/1295 [==============================] - 14s 4ms/step - loss: 0.0061 - accuracy: 0.7044 - val_loss: 5.8263e-04 - val_accuracy: 0.9436\n",
      "Epoch 2/60\n",
      "1295/1295 [==============================] - 5s 4ms/step - loss: 5.0207e-04 - accuracy: 0.9333 - val_loss: 3.6450e-04 - val_accuracy: 0.9235\n",
      "Epoch 3/60\n",
      "1295/1295 [==============================] - 5s 4ms/step - loss: 3.4171e-04 - accuracy: 0.9187 - val_loss: 3.1058e-04 - val_accuracy: 0.9179\n",
      "Epoch 4/60\n",
      "1295/1295 [==============================] - 5s 4ms/step - loss: 2.8806e-04 - accuracy: 0.9156 - val_loss: 2.7079e-04 - val_accuracy: 0.9149\n",
      "Epoch 5/60\n",
      "1295/1295 [==============================] - 5s 4ms/step - loss: 2.6448e-04 - accuracy: 0.9133 - val_loss: 2.6943e-04 - val_accuracy: 0.9071\n",
      "Epoch 6/60\n",
      "1295/1295 [==============================] - 5s 4ms/step - loss: 2.4283e-04 - accuracy: 0.9117 - val_loss: 2.3943e-04 - val_accuracy: 0.9096\n",
      "Epoch 7/60\n",
      "1295/1295 [==============================] - 5s 4ms/step - loss: 2.2378e-04 - accuracy: 0.9129 - val_loss: 2.5395e-04 - val_accuracy: 0.9150\n",
      "Epoch 8/60\n",
      "1295/1295 [==============================] - 5s 4ms/step - loss: 2.2026e-04 - accuracy: 0.9139 - val_loss: 2.2701e-04 - val_accuracy: 0.9131\n",
      "Epoch 9/60\n",
      "1295/1295 [==============================] - 5s 4ms/step - loss: 2.1260e-04 - accuracy: 0.9154 - val_loss: 2.2120e-04 - val_accuracy: 0.9030\n",
      "Epoch 10/60\n",
      "1295/1295 [==============================] - 5s 4ms/step - loss: 2.0746e-04 - accuracy: 0.9112 - val_loss: 2.2174e-04 - val_accuracy: 0.9085\n",
      "Epoch 11/60\n",
      "1295/1295 [==============================] - 5s 4ms/step - loss: 1.9948e-04 - accuracy: 0.9113 - val_loss: 2.1010e-04 - val_accuracy: 0.9109\n",
      "Epoch 12/60\n",
      "1295/1295 [==============================] - 5s 4ms/step - loss: 1.9718e-04 - accuracy: 0.9101 - val_loss: 2.1574e-04 - val_accuracy: 0.9056\n",
      "Epoch 13/60\n",
      "1295/1295 [==============================] - 5s 4ms/step - loss: 1.9774e-04 - accuracy: 0.9103 - val_loss: 2.0536e-04 - val_accuracy: 0.9117\n",
      "Epoch 14/60\n",
      "1295/1295 [==============================] - 5s 4ms/step - loss: 1.9383e-04 - accuracy: 0.9105 - val_loss: 2.0732e-04 - val_accuracy: 0.9109\n",
      "Epoch 15/60\n",
      "1295/1295 [==============================] - 5s 4ms/step - loss: 1.9221e-04 - accuracy: 0.9104 - val_loss: 2.1173e-04 - val_accuracy: 0.9107\n",
      "Epoch 16/60\n",
      "1295/1295 [==============================] - 5s 4ms/step - loss: 1.9062e-04 - accuracy: 0.9110 - val_loss: 2.0505e-04 - val_accuracy: 0.9057\n",
      "Epoch 17/60\n",
      "1295/1295 [==============================] - 5s 4ms/step - loss: 1.9112e-04 - accuracy: 0.9101 - val_loss: 2.0378e-04 - val_accuracy: 0.9118\n",
      "Epoch 18/60\n",
      "1295/1295 [==============================] - 5s 4ms/step - loss: 1.8692e-04 - accuracy: 0.9097 - val_loss: 2.0121e-04 - val_accuracy: 0.9123\n",
      "Epoch 19/60\n",
      "1295/1295 [==============================] - 5s 4ms/step - loss: 1.8127e-04 - accuracy: 0.9118 - val_loss: 1.9554e-04 - val_accuracy: 0.9094\n",
      "Epoch 20/60\n",
      "1295/1295 [==============================] - 5s 4ms/step - loss: 1.7980e-04 - accuracy: 0.9119 - val_loss: 1.8659e-04 - val_accuracy: 0.9159\n",
      "Epoch 21/60\n",
      "1295/1295 [==============================] - 5s 4ms/step - loss: 1.7671e-04 - accuracy: 0.9107 - val_loss: 1.8702e-04 - val_accuracy: 0.9066\n",
      "Epoch 22/60\n",
      "1295/1295 [==============================] - 5s 4ms/step - loss: 1.7851e-04 - accuracy: 0.9118 - val_loss: 1.8874e-04 - val_accuracy: 0.9105\n",
      "Epoch 23/60\n",
      "1295/1295 [==============================] - 5s 4ms/step - loss: 1.7691e-04 - accuracy: 0.9119 - val_loss: 1.9277e-04 - val_accuracy: 0.9091\n",
      "Epoch 24/60\n",
      "1295/1295 [==============================] - 5s 4ms/step - loss: 1.8145e-04 - accuracy: 0.9119 - val_loss: 2.0661e-04 - val_accuracy: 0.9106\n",
      "Epoch 25/60\n",
      "1295/1295 [==============================] - 5s 4ms/step - loss: 1.7578e-04 - accuracy: 0.9106 - val_loss: 1.8261e-04 - val_accuracy: 0.9090\n",
      "Epoch 26/60\n",
      "1295/1295 [==============================] - 5s 4ms/step - loss: 1.7498e-04 - accuracy: 0.9113 - val_loss: 1.8960e-04 - val_accuracy: 0.9143\n",
      "Epoch 27/60\n",
      "1295/1295 [==============================] - 5s 4ms/step - loss: 1.7778e-04 - accuracy: 0.9122 - val_loss: 1.8183e-04 - val_accuracy: 0.9120\n",
      "Epoch 28/60\n",
      "1295/1295 [==============================] - 5s 4ms/step - loss: 1.7354e-04 - accuracy: 0.9124 - val_loss: 1.9118e-04 - val_accuracy: 0.9086\n",
      "Epoch 29/60\n",
      "1295/1295 [==============================] - 5s 4ms/step - loss: 1.7342e-04 - accuracy: 0.9105 - val_loss: 1.8334e-04 - val_accuracy: 0.9111\n",
      "Epoch 30/60\n",
      "1295/1295 [==============================] - 5s 4ms/step - loss: 1.7253e-04 - accuracy: 0.9109 - val_loss: 1.8256e-04 - val_accuracy: 0.9114\n",
      "Epoch 31/60\n",
      "1295/1295 [==============================] - 5s 4ms/step - loss: 1.7342e-04 - accuracy: 0.9134 - val_loss: 1.8844e-04 - val_accuracy: 0.9164\n",
      "Epoch 32/60\n",
      "1295/1295 [==============================] - 5s 4ms/step - loss: 1.7078e-04 - accuracy: 0.9124 - val_loss: 1.8394e-04 - val_accuracy: 0.9081\n",
      "Epoch 33/60\n",
      " 888/1295 [===================>..........] - ETA: 1s - loss: 1.6758e-04 - accuracy: 0.9122"
     ]
    }
   ],
   "source": [
    "filename='sm_20_lettersdim.h5'\n",
    "autoencoder.compile(optimizer='adam', \n",
    "                    loss='mean_squared_error', \n",
    "                    metrics=['accuracy'])\n",
    "\n",
    "checkpointer = ModelCheckpoint(filepath=filename,\n",
    "                               verbose=0,\n",
    "                               save_best_only=True)\n",
    "\n",
    "tensorboard = TensorBoard(log_dir='./logs',\n",
    "                          histogram_freq=0,\n",
    "                          write_graph=True,\n",
    "                          write_images=True)\n",
    "\n",
    "history = autoencoder.fit(X_train, X_train,\n",
    "                    epochs=nb_epoch,\n",
    "                    batch_size=batch_size,\n",
    "                    shuffle=True,\n",
    "                    validation_data=(X_test, X_test),\n",
    "                    verbose=1,\n",
    "                    callbacks=[checkpointer, tensorboard]).history"
   ]
  },
  {
   "cell_type": "code",
   "execution_count": 104,
   "id": "7d2c7425-1272-49fd-9cf4-c87d52c3eb26",
   "metadata": {},
   "outputs": [
    {
     "data": {
      "image/png": "[encoded data removed]",
      "text/plain": [
       "<Figure size 864x432 with 1 Axes>"
      ]
     },
     "metadata": {},
     "output_type": "display_data"
    }
   ],
   "source": [
    "plt.plot(history['loss'])\n",
    "plt.plot(history['val_loss'])\n",
    "plt.title('model loss')\n",
    "plt.ylabel('loss')\n",
    "plt.xlabel('epoch')\n",
    "plt.legend(['train', 'test'], loc='upper right');"
   ]
  },
  {
   "cell_type": "code",
   "execution_count": 105,
   "id": "ca646d2a-75aa-44f1-b466-d6a2467d7111",
   "metadata": {},
   "outputs": [
    {
     "name": "stdout",
     "output_type": "stream",
     "text": [
      "Min Loss:0.0010560028022155166\n"
     ]
    }
   ],
   "source": [
    "autoencoder = load_model(filename)\n",
    "print(f'Min Loss:{np.min(history[\"loss\"])}')"
   ]
  },
  {
   "cell_type": "code",
   "execution_count": 106,
   "id": "05eb783f-6acb-4d40-a400-4fb8fb2b5ec5",
   "metadata": {},
   "outputs": [
    {
     "name": "stdout",
     "output_type": "stream",
     "text": [
      "MSE: 0.004304660525741891\n"
     ]
    }
   ],
   "source": [
    "#get the MSE error term\n",
    "predictions = autoencoder.predict(scaled_seqs)\n",
    "mse = np.mean(np.power(scaled_seqs - predictions, 2), axis=1)\n",
    "print('MSE:', np.quantile(mse, 0.999)) # => the 9999% quatile - only 0.0001% have error score higher than that"
   ]
  },
  {
   "cell_type": "code",
   "execution_count": 107,
   "id": "d6b699ee-4b66-4096-bac8-849cbde045d3",
   "metadata": {},
   "outputs": [],
   "source": [
    "\n",
    "#encode all the data\n",
    "encoded_seqs = encode_sequence_list(seqs_ds.iloc[:,0])\n",
    "#scale it\n",
    "scaled_data = MinMaxScaler().fit_transform(encoded_seqs)\n",
    "#predict it\n",
    "predicted = autoencoder.predict(scaled_data)\n",
    "#get the error term\n",
    "mse = np.mean(np.power(scaled_data - predicted, 2), axis=1)\n",
    "#now add them to our data frame\n",
    "seqs_ds['MSE'] = mse"
   ]
  },
  {
   "cell_type": "code",
   "execution_count": 108,
   "id": "495fbf06-d2e2-47fb-9176-abbe42e69f1f",
   "metadata": {},
   "outputs": [
    {
     "data": {
      "text/html": [
       "<div>\n",
       "<style scoped>\n",
       "    .dataframe tbody tr th:only-of-type {\n",
       "        vertical-align: middle;\n",
       "    }\n",
       "\n",
       "    .dataframe tbody tr th {\n",
       "        vertical-align: top;\n",
       "    }\n",
       "\n",
       "    .dataframe thead th {\n",
       "        text-align: right;\n",
       "    }\n",
       "</style>\n",
       "<table border=\"1\" class=\"dataframe\">\n",
       "  <thead>\n",
       "    <tr style=\"text-align: right;\">\n",
       "      <th></th>\n",
       "      <th>0</th>\n",
       "      <th>MSE</th>\n",
       "    </tr>\n",
       "  </thead>\n",
       "  <tbody>\n",
       "    <tr>\n",
       "      <th>0</th>\n",
       "      <td>udaṅmukha</td>\n",
       "      <td>0.001576</td>\n",
       "    </tr>\n",
       "    <tr>\n",
       "      <th>1</th>\n",
       "      <td>hasantī</td>\n",
       "      <td>0.000578</td>\n",
       "    </tr>\n",
       "    <tr>\n",
       "      <th>2</th>\n",
       "      <td>nihākā</td>\n",
       "      <td>0.000395</td>\n",
       "    </tr>\n",
       "    <tr>\n",
       "      <th>3</th>\n",
       "      <td>dandahyamānognirgaṅg</td>\n",
       "      <td>0.004398</td>\n",
       "    </tr>\n",
       "    <tr>\n",
       "      <th>4</th>\n",
       "      <td>kośātakī</td>\n",
       "      <td>0.000156</td>\n",
       "    </tr>\n",
       "    <tr>\n",
       "      <th>...</th>\n",
       "      <td>...</td>\n",
       "      <td>...</td>\n",
       "    </tr>\n",
       "    <tr>\n",
       "      <th>66973</th>\n",
       "      <td>selvan</td>\n",
       "      <td>0.000261</td>\n",
       "    </tr>\n",
       "    <tr>\n",
       "      <th>66974</th>\n",
       "      <td>azhaghan</td>\n",
       "      <td>0.000546</td>\n",
       "    </tr>\n",
       "    <tr>\n",
       "      <th>66975</th>\n",
       "      <td>nanu</td>\n",
       "      <td>0.000558</td>\n",
       "    </tr>\n",
       "    <tr>\n",
       "      <th>66976</th>\n",
       "      <td>neenu</td>\n",
       "      <td>0.000895</td>\n",
       "    </tr>\n",
       "    <tr>\n",
       "      <th>66977</th>\n",
       "      <td>vandidchi</td>\n",
       "      <td>0.000483</td>\n",
       "    </tr>\n",
       "  </tbody>\n",
       "</table>\n",
       "<p>66978 rows × 2 columns</p>\n",
       "</div>"
      ],
      "text/plain": [
       "                          0       MSE\n",
       "0                 udaṅmukha  0.001576\n",
       "1                   hasantī  0.000578\n",
       "2                    nihākā  0.000395\n",
       "3      dandahyamānognirgaṅg  0.004398\n",
       "4                  kośātakī  0.000156\n",
       "...                     ...       ...\n",
       "66973                selvan  0.000261\n",
       "66974              azhaghan  0.000546\n",
       "66975                  nanu  0.000558\n",
       "66976                 neenu  0.000895\n",
       "66977             vandidchi  0.000483\n",
       "\n",
       "[66978 rows x 2 columns]"
      ]
     },
     "metadata": {},
     "output_type": "display_data"
    }
   ],
   "source": [
    "display(seqs_ds)\n"
   ]
  },
  {
   "cell_type": "code",
   "execution_count": 109,
   "id": "9c44bf11-0fb6-43d9-87b5-7100a28e6082",
   "metadata": {},
   "outputs": [
    {
     "name": "stdout",
     "output_type": "stream",
     "text": [
      "MSE 0.9999 threshhold:0.0050601685556191135\n"
     ]
    }
   ],
   "source": [
    "\n",
    "mse_threshold = np.quantile(seqs_ds['MSE'], 0.9999)\n",
    "print(f'MSE 0.9999 threshhold:{mse_threshold}')"
   ]
  },
  {
   "cell_type": "code",
   "execution_count": 110,
   "id": "6776a954-264b-47b7-92f0-635161ca81c5",
   "metadata": {},
   "outputs": [],
   "source": [
    "seqs_ds['MSE_Outlier'] = 0\n",
    "seqs_ds.loc[seqs_ds['MSE'] > mse_threshold, 'MSE_Outlier'] = 1"
   ]
  },
  {
   "cell_type": "code",
   "execution_count": 87,
   "id": "b9d5e9e1-fac3-4a1a-bb9f-30d623618086",
   "metadata": {},
   "outputs": [
    {
     "name": "stdout",
     "output_type": "stream",
     "text": [
      "Num of MSE outlier:7\n"
     ]
    },
    {
     "data": {
      "text/html": [
       "<div>\n",
       "<style scoped>\n",
       "    .dataframe tbody tr th:only-of-type {\n",
       "        vertical-align: middle;\n",
       "    }\n",
       "\n",
       "    .dataframe tbody tr th {\n",
       "        vertical-align: top;\n",
       "    }\n",
       "\n",
       "    .dataframe thead th {\n",
       "        text-align: right;\n",
       "    }\n",
       "</style>\n",
       "<table border=\"1\" class=\"dataframe\">\n",
       "  <thead>\n",
       "    <tr style=\"text-align: right;\">\n",
       "      <th></th>\n",
       "      <th>0</th>\n",
       "      <th>MSE</th>\n",
       "      <th>MSE_Outlier</th>\n",
       "    </tr>\n",
       "  </thead>\n",
       "  <tbody>\n",
       "    <tr>\n",
       "      <th>25095</th>\n",
       "      <td>mehagudāṅkurāni</td>\n",
       "      <td>0.005114</td>\n",
       "      <td>1</td>\n",
       "    </tr>\n",
       "    <tr>\n",
       "      <th>33886</th>\n",
       "      <td>ātmaśarīrendriy</td>\n",
       "      <td>0.005094</td>\n",
       "      <td>1</td>\n",
       "    </tr>\n",
       "    <tr>\n",
       "      <th>36467</th>\n",
       "      <td>adṛṣṭaśrutapūrv</td>\n",
       "      <td>0.005656</td>\n",
       "      <td>1</td>\n",
       "    </tr>\n",
       "    <tr>\n",
       "      <th>42923</th>\n",
       "      <td>rāmamantrānukīr</td>\n",
       "      <td>0.005609</td>\n",
       "      <td>1</td>\n",
       "    </tr>\n",
       "    <tr>\n",
       "      <th>46182</th>\n",
       "      <td>vrajānandinnand</td>\n",
       "      <td>0.006089</td>\n",
       "      <td>1</td>\n",
       "    </tr>\n",
       "    <tr>\n",
       "      <th>59510</th>\n",
       "      <td>kāminīndrendvād</td>\n",
       "      <td>0.005027</td>\n",
       "      <td>1</td>\n",
       "    </tr>\n",
       "    <tr>\n",
       "      <th>65991</th>\n",
       "      <td>pūrayediṣṭavālu</td>\n",
       "      <td>0.005147</td>\n",
       "      <td>1</td>\n",
       "    </tr>\n",
       "  </tbody>\n",
       "</table>\n",
       "</div>"
      ],
      "text/plain": [
       "                     0       MSE  MSE_Outlier\n",
       "25095  mehagudāṅkurāni  0.005114            1\n",
       "33886  ātmaśarīrendriy  0.005094            1\n",
       "36467  adṛṣṭaśrutapūrv  0.005656            1\n",
       "42923  rāmamantrānukīr  0.005609            1\n",
       "46182  vrajānandinnand  0.006089            1\n",
       "59510  kāminīndrendvād  0.005027            1\n",
       "65991  pūrayediṣṭavālu  0.005147            1"
      ]
     },
     "execution_count": 87,
     "metadata": {},
     "output_type": "execute_result"
    }
   ],
   "source": [
    "print(f\"Num of MSE outlier:{seqs_ds['MSE_Outlier'].sum()}\")\n",
    "\n",
    "seqs_ds.loc[seqs_ds['MSE_Outlier'] == 1]"
   ]
  },
  {
   "cell_type": "code",
   "execution_count": 111,
   "id": "710864b6-6ee8-4515-a27e-9f81612b8245",
   "metadata": {},
   "outputs": [
    {
     "name": "stdout",
     "output_type": "stream",
     "text": [
      "Num of MSE outlier:7\n"
     ]
    },
    {
     "data": {
      "text/html": [
       "<div>\n",
       "<style scoped>\n",
       "    .dataframe tbody tr th:only-of-type {\n",
       "        vertical-align: middle;\n",
       "    }\n",
       "\n",
       "    .dataframe tbody tr th {\n",
       "        vertical-align: top;\n",
       "    }\n",
       "\n",
       "    .dataframe thead th {\n",
       "        text-align: right;\n",
       "    }\n",
       "</style>\n",
       "<table border=\"1\" class=\"dataframe\">\n",
       "  <thead>\n",
       "    <tr style=\"text-align: right;\">\n",
       "      <th></th>\n",
       "      <th>0</th>\n",
       "      <th>MSE</th>\n",
       "      <th>MSE_Outlier</th>\n",
       "    </tr>\n",
       "  </thead>\n",
       "  <tbody>\n",
       "    <tr>\n",
       "      <th>15455</th>\n",
       "      <td>anavacchinnacidānand</td>\n",
       "      <td>0.006147</td>\n",
       "      <td>1</td>\n",
       "    </tr>\n",
       "    <tr>\n",
       "      <th>24953</th>\n",
       "      <td>aindrīndravāruṇīndrā</td>\n",
       "      <td>0.005379</td>\n",
       "      <td>1</td>\n",
       "    </tr>\n",
       "    <tr>\n",
       "      <th>33069</th>\n",
       "      <td>śakratarurnadīsarjor</td>\n",
       "      <td>0.005088</td>\n",
       "      <td>1</td>\n",
       "    </tr>\n",
       "    <tr>\n",
       "      <th>36619</th>\n",
       "      <td>anirvacanīyānandapra</td>\n",
       "      <td>0.005489</td>\n",
       "      <td>1</td>\n",
       "    </tr>\n",
       "    <tr>\n",
       "      <th>46182</th>\n",
       "      <td>vrajānandinnandīśvar</td>\n",
       "      <td>0.006075</td>\n",
       "      <td>1</td>\n",
       "    </tr>\n",
       "    <tr>\n",
       "      <th>54721</th>\n",
       "      <td>grāhyamathendukundad</td>\n",
       "      <td>0.005151</td>\n",
       "      <td>1</td>\n",
       "    </tr>\n",
       "    <tr>\n",
       "      <th>63323</th>\n",
       "      <td>sakalasuramunīndrair</td>\n",
       "      <td>0.005492</td>\n",
       "      <td>1</td>\n",
       "    </tr>\n",
       "  </tbody>\n",
       "</table>\n",
       "</div>"
      ],
      "text/plain": [
       "                          0       MSE  MSE_Outlier\n",
       "15455  anavacchinnacidānand  0.006147            1\n",
       "24953  aindrīndravāruṇīndrā  0.005379            1\n",
       "33069  śakratarurnadīsarjor  0.005088            1\n",
       "36619  anirvacanīyānandapra  0.005489            1\n",
       "46182  vrajānandinnandīśvar  0.006075            1\n",
       "54721  grāhyamathendukundad  0.005151            1\n",
       "63323  sakalasuramunīndrair  0.005492            1"
      ]
     },
     "execution_count": 111,
     "metadata": {},
     "output_type": "execute_result"
    }
   ],
   "source": [
    "print(f\"Num of MSE outlier:{seqs_ds['MSE_Outlier'].sum()}\")\n",
    "\n",
    "seqs_ds.loc[seqs_ds['MSE_Outlier'] == 1]"
   ]
  },
  {
   "cell_type": "code",
   "execution_count": null,
   "id": "16ee9587-c518-4347-b869-431084e3369a",
   "metadata": {},
   "outputs": [],
   "source": []
  }
 ],
 "metadata": {
  "kernelspec": {
   "display_name": "Python 3 (ipykernel)",
   "language": "python",
   "name": "python3"
  },
  "language_info": {
   "codemirror_mode": {
    "name": "ipython",
    "version": 3
   },
   "file_extension": ".py",
   "mimetype": "text/x-python",
   "name": "python",
   "nbconvert_exporter": "python",
   "pygments_lexer": "ipython3",
   "version": "3.8.10"
  }
 },
 "nbformat": 4,
 "nbformat_minor": 5
}
