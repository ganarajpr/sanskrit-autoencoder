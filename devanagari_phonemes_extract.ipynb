{
 "cells": [
  {
   "cell_type": "code",
   "execution_count": 2,
   "id": "6ac9b202-1cbf-4a72-8000-c10cf9086a8a",
   "metadata": {},
   "outputs": [],
   "source": [
    "import glob\n",
    "import pandas as pd\n",
    "import numpy as np\n",
    "import re"
   ]
  },
  {
   "cell_type": "code",
   "execution_count": 3,
   "id": "cfb4c379-f96b-46de-a4b7-7266411e55f5",
   "metadata": {},
   "outputs": [
    {
     "data": {
      "text/plain": [
       "'न'"
      ]
     },
     "execution_count": 3,
     "metadata": {},
     "output_type": "execute_result"
    }
   ],
   "source": [
    "uniqWords = pd.read_csv('dev-uniq.csv')\n",
    "wlist = uniqWords.values.tolist()\n",
    "len(wlist)\n",
    "wlist[1][0][2]"
   ]
  },
  {
   "cell_type": "code",
   "execution_count": 4,
   "id": "5a4f216d-9917-4b23-87d1-20b2c7663a83",
   "metadata": {},
   "outputs": [
    {
     "name": "stdout",
     "output_type": "stream",
     "text": [
      "['ऺ', 'ऻ', '़', 'ऽ', 'ा', 'ि', 'ी', 'ु', 'ू', 'ृ', 'ॄ', 'ॅ', 'ॆ', 'े', 'ै', 'ॉ', 'ॊ', 'ो', 'ौ', 'ॎ', 'ॏ', 'ं', 'ः']\n"
     ]
    }
   ],
   "source": [
    "modifiers = [ '\\u093a',\n",
    "            '\\u093b',\n",
    "            '\\u093c',\n",
    "            '\\u093d',#half\n",
    "            '\\u093e', #a\n",
    "             '\\u093f','\\u0940', #e\n",
    "             '\\u0941','\\u0942', #u\n",
    "             '\\u0943','\\u0944',  #r\n",
    "             '\\u0945','\\u0946',\n",
    "               '\\u0947','\\u0948', #i\n",
    "             '\\u0949',\n",
    "              '\\u094a', '\\u094b','\\u094c',#o\n",
    "             #'\\u094d',\n",
    "             '\\u094e','\\u094f',\n",
    "            '\\u0902','\\u0903']\n",
    "print(modifiers)\n",
    "escapers = ['\\u094d']\n",
    "def isModifier(item):\n",
    "    return item in modifiers"
   ]
  },
  {
   "cell_type": "code",
   "execution_count": 5,
   "id": "65ac3723-deb0-4dd5-baa9-27ea45ce1f1b",
   "metadata": {},
   "outputs": [
    {
     "name": "stdout",
     "output_type": "stream",
     "text": [
      "नानुमन्यसे\n",
      "10 b'\\\\u0928\\\\u093e\\\\u0928\\\\u0941\\\\u092e\\\\u0928\\\\u094d\\\\u092f\\\\u0938\\\\u0947'\n"
     ]
    }
   ],
   "source": [
    "print(wlist[1][0])\n",
    "word = wlist[1][0]\n",
    "print(len(word), word.encode(\"unicode_escape\"))\n",
    "def getPhonemes(word,i,ph):\n",
    "    #print(word, i, ph)\n",
    "    if i >= len(word):\n",
    "        if len(word) >0:\n",
    "            ph.add(word)\n",
    "        #print(i, 'is greater,returning')\n",
    "        return ph\n",
    "    if word[i] in escapers:\n",
    "        #print(i, 'was escaper, escaping', word[i])\n",
    "        return getPhonemes(word,i+1,ph);\n",
    "    if isModifier(word[i]):\n",
    "        if i+1 < len(word) and isModifier(word[i+1]):\n",
    "            #print(i, 'next is modifier escaping', word[i])\n",
    "            return getPhonemes(word,i+1,ph);\n",
    "        else:\n",
    "            #print(i, 'is modifier splitting', word[:i+1])\n",
    "            ph.add(word[:i+1])\n",
    "        return getPhonemes(word[i+1:],0,ph);\n",
    "    else:\n",
    "        if i > 0 and word[i-1] not in escapers:\n",
    "            #print(i, 'was consonant before splitting', word[:i])\n",
    "            ph.add(word[:i])\n",
    "            return getPhonemes(word[i:],0,ph);\n",
    "        else:\n",
    "            #print(i, 'is not modifier escaping', word[i])\n",
    "            return getPhonemes(word,i+1,ph);\n",
    "    return ph\n",
    "\n",
    "#for i in range(len(phlist)):\n",
    "    #print(phlist[i], phlist[i].encode(\"unicode_escape\"))"
   ]
  },
  {
   "cell_type": "code",
   "execution_count": 13,
   "id": "092ed8e7-9e4d-4d95-a063-7eaf22d536ae",
   "metadata": {},
   "outputs": [],
   "source": [
    "def getPhonemesList(word,i,ph):\n",
    "    #print(word, i, ph)\n",
    "    if i >= len(word):\n",
    "        if len(word) >0:\n",
    "            ph.append(word)\n",
    "        #print(i, 'is greater,returning')\n",
    "        return ph\n",
    "    if word[i] in escapers:\n",
    "        #print(i, 'was escaper, escaping', word[i])\n",
    "        return getPhonemesList(word,i+1,ph);\n",
    "    if isModifier(word[i]):\n",
    "        if i+1 < len(word) and isModifier(word[i+1]):\n",
    "            #print(i, 'next is modifier escaping', word[i])\n",
    "            return getPhonemesList(word,i+1,ph);\n",
    "        else:\n",
    "            #print(i, 'is modifier splitting', word[:i+1])\n",
    "            ph.append(word[:i+1])\n",
    "        return getPhonemesList(word[i+1:],0,ph);\n",
    "    else:\n",
    "        if i > 0 and word[i-1] not in escapers:\n",
    "            #print(i, 'was consonant before splitting', word[:i])\n",
    "            ph.append(word[:i])\n",
    "            return getPhonemesList(word[i:],0,ph);\n",
    "        else:\n",
    "            #print(i, 'is not modifier escaping', word[i])\n",
    "            return getPhonemesList(word,i+1,ph);\n",
    "    return ph"
   ]
  },
  {
   "cell_type": "code",
   "execution_count": 20,
   "id": "d6277c7f-fccb-483b-a0e1-07f9d6c3066f",
   "metadata": {},
   "outputs": [
    {
     "name": "stdout",
     "output_type": "stream",
     "text": [
      "207180\n"
     ]
    },
    {
     "data": {
      "text/plain": [
       "['उ', 'क्त्वा', 'नु', 'ज्ञा', 'प्य']"
      ]
     },
     "execution_count": 20,
     "metadata": {},
     "output_type": "execute_result"
    }
   ],
   "source": [
    "ph = []\n",
    "for i in range(len(wlist)):\n",
    "    arr = []\n",
    "    #if i%1000 == 0:\n",
    "        #print(i);\n",
    "    arr = getPhonemesList(wlist[i][0],0,arr)\n",
    "    ph.append(arr)\n",
    "print(len(ph))\n",
    "ph[0]"
   ]
  },
  {
   "cell_type": "code",
   "execution_count": 22,
   "id": "0791278d-7d13-46d7-b6a7-8236d4a24475",
   "metadata": {},
   "outputs": [],
   "source": [
    "with open('dev-br.txt', 'w') as f:\n",
    "    for item in ph:\n",
    "        f.write(\"%s\\n\" % ' '.join(item))"
   ]
  },
  {
   "cell_type": "code",
   "execution_count": 19,
   "id": "61f3c2cd-0249-4b63-9fc2-58110e791a00",
   "metadata": {},
   "outputs": [
    {
     "name": "stdout",
     "output_type": "stream",
     "text": [
      "        0       1    2     3     4     5     6     7     8     9   ...    18  \\\n",
      "0        उ  क्त्वा   नु  ज्ञा   प्य  None  None  None  None  None  ...  None   \n",
      "1       ना      नु    म   न्य    से  None  None  None  None  None  ...  None   \n",
      "2       सु      दा   रु    णा   लां    कृ     त    वे     ष    धा  ...  None   \n",
      "3        श       ल  भाः  None  None  None  None  None  None  None  ...  None   \n",
      "4        ग      णि    त  None  None  None  None  None  None  None  ...  None   \n",
      "...     ..     ...  ...   ...   ...   ...   ...   ...   ...   ...  ...   ...   \n",
      "207175   न       र   का    ये    ति  None  None  None  None  None  ...  None   \n",
      "207176   स     र्व   भू    ता    नु     क   म्प    कः  None  None  ...  None   \n",
      "207177  मा      तृ    व     द  None  None  None  None  None  None  ...  None   \n",
      "207178   न     र्म   दा    या     म  None  None  None  None  None  ...  None   \n",
      "207179  चै       क   रा     ट  None  None  None  None  None  None  ...  None   \n",
      "\n",
      "          19    20    21    22    23    24    25    26    27  \n",
      "0       None  None  None  None  None  None  None  None  None  \n",
      "1       None  None  None  None  None  None  None  None  None  \n",
      "2       None  None  None  None  None  None  None  None  None  \n",
      "3       None  None  None  None  None  None  None  None  None  \n",
      "4       None  None  None  None  None  None  None  None  None  \n",
      "...      ...   ...   ...   ...   ...   ...   ...   ...   ...  \n",
      "207175  None  None  None  None  None  None  None  None  None  \n",
      "207176  None  None  None  None  None  None  None  None  None  \n",
      "207177  None  None  None  None  None  None  None  None  None  \n",
      "207178  None  None  None  None  None  None  None  None  None  \n",
      "207179  None  None  None  None  None  None  None  None  None  \n",
      "\n",
      "[207180 rows x 28 columns]\n"
     ]
    }
   ],
   "source": [
    "pdWords = pd.DataFrame(data=ph)\n",
    "print(pdWords)\n",
    "pdWords.to_pickle('dev-br-ph.pkl')"
   ]
  },
  {
   "cell_type": "code",
   "execution_count": 8,
   "id": "734eea70-7bc4-47ba-a8d7-aca87c653734",
   "metadata": {},
   "outputs": [],
   "source": [
    "#Extract SET of all phonemes\n",
    "ph = set([])\n",
    "for i in range(len(wlist)):\n",
    "    #print(wlist[i][0])\n",
    "    if i%1000 == 0:\n",
    "        print(i);\n",
    "    getPhonemes(wlist[i][0],0,ph)\n",
    "phlist = list(ph)\n",
    "#print(ph)"
   ]
  },
  {
   "cell_type": "code",
   "execution_count": 28,
   "id": "e773af1a-7b07-4254-99c0-de352bbdcbc4",
   "metadata": {},
   "outputs": [
    {
     "name": "stdout",
     "output_type": "stream",
     "text": [
      "कलीबता b'\\\\u0915\\\\u0932\\\\u0940\\\\u092c\\\\u0924\\\\u093e'\n",
      "उक्त्वानुज्ञाप्य b'\\\\u0909\\\\u0915\\\\u094d\\\\u0924\\\\u094d\\\\u0935\\\\u093e\\\\u0928\\\\u0941\\\\u091c\\\\u094d\\\\u091e\\\\u093e\\\\u092a\\\\u094d\\\\u092f'\n"
     ]
    }
   ],
   "source": [
    "print(w[0],(w[0]).encode(\"unicode_escape\"))\n",
    "print(w[1],(w[1]).encode(\"unicode_escape\"))"
   ]
  },
  {
   "cell_type": "code",
   "execution_count": null,
   "id": "3a7ceab4-f6da-44a8-8236-a1ce3702dabe",
   "metadata": {},
   "outputs": [],
   "source": []
  }
 ],
 "metadata": {
  "kernelspec": {
   "display_name": "Python 3 (ipykernel)",
   "language": "python",
   "name": "python3"
  },
  "language_info": {
   "codemirror_mode": {
    "name": "ipython",
    "version": 3
   },
   "file_extension": ".py",
   "mimetype": "text/x-python",
   "name": "python",
   "nbconvert_exporter": "python",
   "pygments_lexer": "ipython3",
   "version": "3.8.10"
  }
 },
 "nbformat": 4,
 "nbformat_minor": 5
}
