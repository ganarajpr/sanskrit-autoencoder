{
 "cells": [
  {
   "cell_type": "code",
   "execution_count": 1,
   "id": "48c4cf40-12f9-4545-81ee-0872d92c9a9a",
   "metadata": {},
   "outputs": [],
   "source": [
    "import random\n",
    "import pandas as pd\n",
    "import numpy as np\n",
    "import matplotlib.pyplot as plt\n",
    "import seaborn as sns\n",
    "%matplotlib inline\n",
    "from pylab import rcParams\n",
    "\n",
    "rcParams['figure.figsize'] = 12, 6\n",
    "sns.set(style='whitegrid', palette='muted', font_scale=1.5)"
   ]
  },
  {
   "cell_type": "code",
   "execution_count": 29,
   "id": "59eb6d73-232d-4326-ad83-2261dcaf005d",
   "metadata": {},
   "outputs": [],
   "source": [
    "from keras.preprocessing.sequence import pad_sequences\n",
    "#function that convert a char seqs to numbers seqs \n",
    "#(it does a little more but lets leave it for now)\n",
    "def encode_sequence_list(seqs, maxlen, feat_n=0):\n",
    "    encoded_seqs = []\n",
    "    for seq in seqs:\n",
    "        encoded_seq = [char_to_int[c] for c in seq]\n",
    "        encoded_seqs.append(encoded_seq)\n",
    "    if(feat_n > 0):\n",
    "        encoded_seqs.append(np.zeros(feat_n))\n",
    "    return pad_sequences(encoded_seqs, padding='post', maxlen=maxlen)\n",
    "\n",
    "def decode_sequence_list(seqs):\n",
    "    decoded_seqs = []\n",
    "    for seq in seqs:\n",
    "        decoded_seq = [int_to_char[i] for i in seq]\n",
    "        decoded_seqs.append(decoded_seq)\n",
    "    return decoded_seqs"
   ]
  },
  {
   "cell_type": "code",
   "execution_count": 30,
   "id": "38768af9-104e-4c28-abaa-f3297b0eed18",
   "metadata": {},
   "outputs": [
    {
     "data": {
      "text/plain": [
       "['नानुमन्यसे', 'सुदारुणालांकृतवेषधारिणा', 'शलभाः', 'गणित']"
      ]
     },
     "execution_count": 30,
     "metadata": {},
     "output_type": "execute_result"
    }
   ],
   "source": [
    "uniqWords = pd.read_csv('dev-uniq.csv')\n",
    "wlist = uniqWords.values.flatten().tolist()\n",
    "wlist[1:5]"
   ]
  },
  {
   "cell_type": "code",
   "execution_count": 31,
   "id": "e85e1c40-5ca1-430a-ba26-48a10c5d6800",
   "metadata": {},
   "outputs": [
    {
     "name": "stdout",
     "output_type": "stream",
     "text": [
      "207180 207180\n"
     ]
    }
   ],
   "source": [
    "filter_object = filter(lambda x: x != \" \", wlist)\n",
    "\n",
    "without_empty_strings = list(filter_object)\n",
    "\n",
    "print(len(wlist),len(without_empty_strings))"
   ]
  },
  {
   "cell_type": "code",
   "execution_count": 32,
   "id": "d19cc9d5-ed60-484c-93a6-b63df200ce29",
   "metadata": {},
   "outputs": [
    {
     "data": {
      "text/plain": [
       "['द्या', 'वा', 'ह्मॊ', 'प्ला']"
      ]
     },
     "execution_count": 32,
     "metadata": {},
     "output_type": "execute_result"
    }
   ],
   "source": [
    "unph = pd.read_csv('devph.csv')\n",
    "ph = unph.values.flatten().tolist()\n",
    "ph[1:5]"
   ]
  },
  {
   "cell_type": "code",
   "execution_count": 33,
   "id": "e0f095d5-ba31-4947-b672-3c48dbfe068c",
   "metadata": {},
   "outputs": [
    {
     "name": "stdout",
     "output_type": "stream",
     "text": [
      "Done: 0\n",
      "Done: 1000\n",
      "Done: 2000\n",
      "Done: 3000\n",
      "Done: 4000\n",
      "{'व', 'ठ', 'ु', 'य', 'र', 'ॊ', 'श', 'ॢ', 'ट', 'ख', 'स', 'आ', 'फ', 'ॄ', 'ई', 'त', 'ः', 'ज', 'ै', 'अ', 'थ', 'ि', 'क', 'े', 'द', 'ृ', 'औ', 'घ', 'ह', 'ध', 'ढ', 'छ', 'न', 'भ', 'ञ', 'ऋ', 'ल', 'इ', 'ओ', 'ऊ', 'ू', 'च', 'ग', 'ी', 'ौ', 'ङ', 'झ', 'ं', 'ँ', 'ण', 'उ', '्', 'ड', 'ष', 'प', 'ए', 'ा', 'म', 'ऽ', 'ऐ', 'ब', '-'}\n"
     ]
    }
   ],
   "source": [
    "#Build Char list to create char index\n",
    "letters = set([])\n",
    "ph[0][0]\n",
    "#test = set(list(ph[0]))\n",
    "#test\n",
    "for i in range(len(ph)):\n",
    "    if i%1000 == 0:\n",
    "        print(\"Done:\", i)\n",
    "    letters = letters.union(set(ph[i]))\n",
    "print(letters)"
   ]
  },
  {
   "cell_type": "code",
   "execution_count": 34,
   "id": "6c81136c-4563-4a48-aed0-a184ca47bd02",
   "metadata": {},
   "outputs": [],
   "source": [
    "char_to_int = dict((c, i) for i, c in enumerate(letters))\n",
    "int_to_char = dict((i, c) for i, c in enumerate(letters))"
   ]
  },
  {
   "cell_type": "code",
   "execution_count": 35,
   "id": "6ab2d09c-5a42-456b-b18b-7e1a704069e5",
   "metadata": {},
   "outputs": [
    {
     "name": "stdout",
     "output_type": "stream",
     "text": [
      "पृष्टॊ\n",
      "[54 25 53 51  8  5  0  0  0  0  0  0  0  0  0  0  0  0  0  0]\n"
     ]
    }
   ],
   "source": [
    "#wlist+= ['सेल्व ', 'अलघन', 'नानु','थोमस', 'नीनु' ]\n",
    "seqs_ds = pd.DataFrame(wlist)\n",
    "encoded_seqs = encode_sequence_list(wlist,20)\n",
    "# mix everything up\n",
    "#np.random.shuffle(encoded_seqs)\n",
    "print(wlist[10])\n",
    "print(encoded_seqs[10])"
   ]
  },
  {
   "cell_type": "code",
   "execution_count": 36,
   "id": "80a2a72b-e9a4-4819-a3d6-da9f22de66a3",
   "metadata": {},
   "outputs": [
    {
     "data": {
      "text/plain": [
       "(207180, 20)"
      ]
     },
     "execution_count": 36,
     "metadata": {},
     "output_type": "execute_result"
    }
   ],
   "source": [
    "encoded_seqs.shape"
   ]
  },
  {
   "cell_type": "code",
   "execution_count": 66,
   "id": "f275e2b4-694c-4f90-929b-63b7ec4b492d",
   "metadata": {},
   "outputs": [
    {
     "name": "stdout",
     "output_type": "stream",
     "text": [
      "[0.83333333 0.36065574 0.85       0.25       0.85       0.\n",
      " 0.93333333 0.53333333 0.03333333 0.28333333 0.85       0.56666667\n",
      " 0.93333333 0.9        0.85       0.05       0.         0.\n",
      " 0.         0.        ]\n"
     ]
    },
    {
     "data": {
      "text/plain": [
       "(207180, 20, 1)"
      ]
     },
     "execution_count": 66,
     "metadata": {},
     "output_type": "execute_result"
    }
   ],
   "source": [
    "from sklearn.preprocessing import StandardScaler, MinMaxScaler\n",
    "scaler = MinMaxScaler()\n",
    "scaled_seqs = scaler.fit_transform(encoded_seqs)\n",
    "#X_train = scaled_seqs[:20000]\n",
    "#X_test = scaled_seqs[20000:]\n",
    "print(scaled_seqs[0])\n",
    "scaled_seqs= np.reshape(scaled_seqs,(scaled_seqs.shape[0], scaled_seqs.shape[1], 1))\n",
    "from sklearn.model_selection import train_test_split\n",
    "X_train, X_test= train_test_split(scaled_seqs, test_size=0.20, random_state=42)\n",
    "scaled_seqs.shape"
   ]
  },
  {
   "cell_type": "code",
   "execution_count": 64,
   "id": "60989b4c-5ded-4ec6-9f9d-cdb2020bbd04",
   "metadata": {},
   "outputs": [],
   "source": [
    "from keras.models import Model, load_model\n",
    "from keras.layers import Input, Dense, Dropout, LSTM, Masking\n",
    "from keras.callbacks import ModelCheckpoint, TensorBoard\n",
    "from keras import regularizers\n",
    "\n",
    "input_dim = X_train.shape[1] #features\n",
    "encoding_dim = len(letters)\n",
    "hidden_dim = int(encoding_dim / 2)\n",
    "\n",
    "nb_epoch = 30\n",
    "batch_size = 128\n",
    "learning_rate = 0.1\n",
    "\n",
    "input_layer = Input(shape=(20,1))\n",
    "#encoder = Masking(mask_value=0.0, input_shape=(input_dim, ))(input_layer)\n",
    "encoder = LSTM(encoding_dim, return_sequences=True, activation='tanh',recurrent_dropout = 0)(input_layer)\n",
    "#encoder = Dense(encoding_dim, activation=\"tanh\", activity_regularizer=regularizers.l1(10e-5))(encoder)\n",
    "encoder = Dense(hidden_dim, activation=\"relu\")(encoder)\n",
    "decoder = Dense(hidden_dim, activation='tanh')(encoder)\n",
    "decoder = Dense(hidden_dim, activation='relu')(encoder)\n",
    "decoder = LSTM(encoding_dim, return_sequences=True, activation='tanh',recurrent_dropout = 0)(decoder)\n",
    "#decoder = Dense(input_dim, activation='tanh')(decoder)\n",
    "autoencoder = Model(inputs=input_layer, outputs=decoder)"
   ]
  },
  {
   "cell_type": "code",
   "execution_count": 65,
   "id": "bb1a76fe-e00d-473f-8acb-ea4fb8370b6c",
   "metadata": {},
   "outputs": [
    {
     "name": "stderr",
     "output_type": "stream",
     "text": [
      "2021-08-01 19:47:34.360233: I tensorflow/core/profiler/lib/profiler_session.cc:126] Profiler session initializing.\n",
      "2021-08-01 19:47:34.360276: I tensorflow/core/profiler/lib/profiler_session.cc:141] Profiler session started.\n",
      "2021-08-01 19:47:34.368132: E tensorflow/core/profiler/internal/gpu/cupti_tracer.cc:1661] function cupti_interface_->Subscribe( &subscriber_, (CUpti_CallbackFunc)ApiCallback, this)failed with error CUPTI_ERROR_NOT_INITIALIZED\n",
      "2021-08-01 19:47:34.368220: I tensorflow/core/profiler/lib/profiler_session.cc:159] Profiler session tear down.\n"
     ]
    },
    {
     "name": "stdout",
     "output_type": "stream",
     "text": [
      "Epoch 1/30\n",
      "   9/1295 [..............................] - ETA: 33s - loss: 0.1586 - accuracy: 0.0014 "
     ]
    },
    {
     "name": "stderr",
     "output_type": "stream",
     "text": [
      "2021-08-01 19:47:35.948960: I tensorflow/core/profiler/lib/profiler_session.cc:126] Profiler session initializing.\n",
      "2021-08-01 19:47:35.948997: I tensorflow/core/profiler/lib/profiler_session.cc:141] Profiler session started.\n",
      "2021-08-01 19:47:35.955573: E tensorflow/core/profiler/internal/gpu/cupti_tracer.cc:1661] function cupti_interface_->Subscribe( &subscriber_, (CUpti_CallbackFunc)ApiCallback, this)failed with error CUPTI_ERROR_NOT_INITIALIZED\n",
      "2021-08-01 19:47:36.029773: I tensorflow/core/profiler/lib/profiler_session.cc:66] Profiler session collecting data.\n",
      "2021-08-01 19:47:36.032941: I tensorflow/core/profiler/internal/gpu/cupti_collector.cc:673]  GpuTracer has collected 0 callback api events and 0 activity events. \n",
      "2021-08-01 19:47:36.034348: I tensorflow/core/profiler/lib/profiler_session.cc:159] Profiler session tear down.\n",
      "2021-08-01 19:47:36.035374: I tensorflow/core/profiler/rpc/client/save_profile.cc:137] Creating directory: ./logs/train/plugins/profile/2021_08_01_19_47_36\n",
      "2021-08-01 19:47:36.035798: I tensorflow/core/profiler/rpc/client/save_profile.cc:143] Dumped gzipped tool data for trace.json.gz to ./logs/train/plugins/profile/2021_08_01_19_47_36/WINDOWS-BC4VHAA.trace.json.gz\n",
      "2021-08-01 19:47:36.041845: I tensorflow/core/profiler/rpc/client/save_profile.cc:137] Creating directory: ./logs/train/plugins/profile/2021_08_01_19_47_36\n",
      "2021-08-01 19:47:36.044012: I tensorflow/core/profiler/rpc/client/save_profile.cc:143] Dumped gzipped tool data for memory_profile.json.gz to ./logs/train/plugins/profile/2021_08_01_19_47_36/WINDOWS-BC4VHAA.memory_profile.json.gz\n",
      "2021-08-01 19:47:36.044273: I tensorflow/core/profiler/rpc/client/capture_profile.cc:251] Creating directory: ./logs/train/plugins/profile/2021_08_01_19_47_36Dumped tool data for xplane.pb to ./logs/train/plugins/profile/2021_08_01_19_47_36/WINDOWS-BC4VHAA.xplane.pb\n",
      "Dumped tool data for overview_page.pb to ./logs/train/plugins/profile/2021_08_01_19_47_36/WINDOWS-BC4VHAA.overview_page.pb\n",
      "Dumped tool data for input_pipeline.pb to ./logs/train/plugins/profile/2021_08_01_19_47_36/WINDOWS-BC4VHAA.input_pipeline.pb\n",
      "Dumped tool data for tensorflow_stats.pb to ./logs/train/plugins/profile/2021_08_01_19_47_36/WINDOWS-BC4VHAA.tensorflow_stats.pb\n",
      "Dumped tool data for kernel_stats.pb to ./logs/train/plugins/profile/2021_08_01_19_47_36/WINDOWS-BC4VHAA.kernel_stats.pb\n",
      "\n"
     ]
    },
    {
     "name": "stdout",
     "output_type": "stream",
     "text": [
      "1295/1295 [==============================] - 15s 10ms/step - loss: 0.0274 - accuracy: 0.0113 - val_loss: 4.6465e-04 - val_accuracy: 2.4737e-04\n",
      "Epoch 2/30\n",
      "1295/1295 [==============================] - 13s 10ms/step - loss: 4.1266e-04 - accuracy: 1.1398e-05 - val_loss: 3.4157e-04 - val_accuracy: 0.0000e+00\n",
      "Epoch 3/30\n",
      "1295/1295 [==============================] - 13s 10ms/step - loss: 3.3266e-04 - accuracy: 0.0000e+00 - val_loss: 3.2382e-04 - val_accuracy: 0.0000e+00\n",
      "Epoch 4/30\n",
      "1295/1295 [==============================] - 12s 9ms/step - loss: 3.2460e-04 - accuracy: 0.0000e+00 - val_loss: 3.2426e-04 - val_accuracy: 0.0000e+00\n",
      "Epoch 5/30\n",
      "1295/1295 [==============================] - 12s 9ms/step - loss: 3.1781e-04 - accuracy: 0.0000e+00 - val_loss: 3.1558e-04 - val_accuracy: 0.0000e+00\n",
      "Epoch 6/30\n",
      "1295/1295 [==============================] - 12s 9ms/step - loss: 3.1512e-04 - accuracy: 0.0000e+00 - val_loss: 3.1922e-04 - val_accuracy: 0.0000e+00\n",
      "Epoch 7/30\n",
      "1295/1295 [==============================] - 12s 9ms/step - loss: 3.1469e-04 - accuracy: 0.0000e+00 - val_loss: 3.1600e-04 - val_accuracy: 0.0000e+00\n",
      "Epoch 8/30\n",
      "1295/1295 [==============================] - 12s 9ms/step - loss: 3.1017e-04 - accuracy: 0.0000e+00 - val_loss: 3.1382e-04 - val_accuracy: 0.0000e+00\n",
      "Epoch 9/30\n",
      "1295/1295 [==============================] - 12s 10ms/step - loss: 3.1034e-04 - accuracy: 0.0000e+00 - val_loss: 3.2648e-04 - val_accuracy: 0.0000e+00\n",
      "Epoch 10/30\n",
      " 563/1295 [============>.................] - ETA: 6s - loss: 3.1660e-04 - accuracy: 0.0000e+00"
     ]
    },
    {
     "ename": "KeyboardInterrupt",
     "evalue": "",
     "output_type": "error",
     "traceback": [
      "\u001b[0;31m---------------------------------------------------------------------------\u001b[0m",
      "\u001b[0;31mKeyboardInterrupt\u001b[0m                         Traceback (most recent call last)",
      "\u001b[0;32m/tmp/ipykernel_298/2805291193.py\u001b[0m in \u001b[0;36m<module>\u001b[0;34m\u001b[0m\n\u001b[1;32m     13\u001b[0m                           write_images=True)\n\u001b[1;32m     14\u001b[0m \u001b[0;34m\u001b[0m\u001b[0m\n\u001b[0;32m---> 15\u001b[0;31m history = autoencoder.fit(X_train, X_train,\n\u001b[0m\u001b[1;32m     16\u001b[0m                     \u001b[0mepochs\u001b[0m\u001b[0;34m=\u001b[0m\u001b[0mnb_epoch\u001b[0m\u001b[0;34m,\u001b[0m\u001b[0;34m\u001b[0m\u001b[0;34m\u001b[0m\u001b[0m\n\u001b[1;32m     17\u001b[0m                     \u001b[0mbatch_size\u001b[0m\u001b[0;34m=\u001b[0m\u001b[0mbatch_size\u001b[0m\u001b[0;34m,\u001b[0m\u001b[0;34m\u001b[0m\u001b[0;34m\u001b[0m\u001b[0m\n",
      "\u001b[0;32m~/Projects/myenv/lib/python3.8/site-packages/keras/engine/training.py\u001b[0m in \u001b[0;36mfit\u001b[0;34m(self, x, y, batch_size, epochs, verbose, callbacks, validation_split, validation_data, shuffle, class_weight, sample_weight, initial_epoch, steps_per_epoch, validation_steps, validation_batch_size, validation_freq, max_queue_size, workers, use_multiprocessing)\u001b[0m\n\u001b[1;32m   1156\u001b[0m                 _r=1):\n\u001b[1;32m   1157\u001b[0m               \u001b[0mcallbacks\u001b[0m\u001b[0;34m.\u001b[0m\u001b[0mon_train_batch_begin\u001b[0m\u001b[0;34m(\u001b[0m\u001b[0mstep\u001b[0m\u001b[0;34m)\u001b[0m\u001b[0;34m\u001b[0m\u001b[0;34m\u001b[0m\u001b[0m\n\u001b[0;32m-> 1158\u001b[0;31m               \u001b[0mtmp_logs\u001b[0m \u001b[0;34m=\u001b[0m \u001b[0mself\u001b[0m\u001b[0;34m.\u001b[0m\u001b[0mtrain_function\u001b[0m\u001b[0;34m(\u001b[0m\u001b[0miterator\u001b[0m\u001b[0;34m)\u001b[0m\u001b[0;34m\u001b[0m\u001b[0;34m\u001b[0m\u001b[0m\n\u001b[0m\u001b[1;32m   1159\u001b[0m               \u001b[0;32mif\u001b[0m \u001b[0mdata_handler\u001b[0m\u001b[0;34m.\u001b[0m\u001b[0mshould_sync\u001b[0m\u001b[0;34m:\u001b[0m\u001b[0;34m\u001b[0m\u001b[0;34m\u001b[0m\u001b[0m\n\u001b[1;32m   1160\u001b[0m                 \u001b[0mcontext\u001b[0m\u001b[0;34m.\u001b[0m\u001b[0masync_wait\u001b[0m\u001b[0;34m(\u001b[0m\u001b[0;34m)\u001b[0m\u001b[0;34m\u001b[0m\u001b[0;34m\u001b[0m\u001b[0m\n",
      "\u001b[0;32m~/Projects/myenv/lib/python3.8/site-packages/tensorflow/python/eager/def_function.py\u001b[0m in \u001b[0;36m__call__\u001b[0;34m(self, *args, **kwds)\u001b[0m\n\u001b[1;32m    887\u001b[0m \u001b[0;34m\u001b[0m\u001b[0m\n\u001b[1;32m    888\u001b[0m       \u001b[0;32mwith\u001b[0m \u001b[0mOptionalXlaContext\u001b[0m\u001b[0;34m(\u001b[0m\u001b[0mself\u001b[0m\u001b[0;34m.\u001b[0m\u001b[0m_jit_compile\u001b[0m\u001b[0;34m)\u001b[0m\u001b[0;34m:\u001b[0m\u001b[0;34m\u001b[0m\u001b[0;34m\u001b[0m\u001b[0m\n\u001b[0;32m--> 889\u001b[0;31m         \u001b[0mresult\u001b[0m \u001b[0;34m=\u001b[0m \u001b[0mself\u001b[0m\u001b[0;34m.\u001b[0m\u001b[0m_call\u001b[0m\u001b[0;34m(\u001b[0m\u001b[0;34m*\u001b[0m\u001b[0margs\u001b[0m\u001b[0;34m,\u001b[0m \u001b[0;34m**\u001b[0m\u001b[0mkwds\u001b[0m\u001b[0;34m)\u001b[0m\u001b[0;34m\u001b[0m\u001b[0;34m\u001b[0m\u001b[0m\n\u001b[0m\u001b[1;32m    890\u001b[0m \u001b[0;34m\u001b[0m\u001b[0m\n\u001b[1;32m    891\u001b[0m       \u001b[0mnew_tracing_count\u001b[0m \u001b[0;34m=\u001b[0m \u001b[0mself\u001b[0m\u001b[0;34m.\u001b[0m\u001b[0mexperimental_get_tracing_count\u001b[0m\u001b[0;34m(\u001b[0m\u001b[0;34m)\u001b[0m\u001b[0;34m\u001b[0m\u001b[0;34m\u001b[0m\u001b[0m\n",
      "\u001b[0;32m~/Projects/myenv/lib/python3.8/site-packages/tensorflow/python/eager/def_function.py\u001b[0m in \u001b[0;36m_call\u001b[0;34m(self, *args, **kwds)\u001b[0m\n\u001b[1;32m    915\u001b[0m       \u001b[0;31m# In this case we have created variables on the first call, so we run the\u001b[0m\u001b[0;34m\u001b[0m\u001b[0;34m\u001b[0m\u001b[0;34m\u001b[0m\u001b[0m\n\u001b[1;32m    916\u001b[0m       \u001b[0;31m# defunned version which is guaranteed to never create variables.\u001b[0m\u001b[0;34m\u001b[0m\u001b[0;34m\u001b[0m\u001b[0;34m\u001b[0m\u001b[0m\n\u001b[0;32m--> 917\u001b[0;31m       \u001b[0;32mreturn\u001b[0m \u001b[0mself\u001b[0m\u001b[0;34m.\u001b[0m\u001b[0m_stateless_fn\u001b[0m\u001b[0;34m(\u001b[0m\u001b[0;34m*\u001b[0m\u001b[0margs\u001b[0m\u001b[0;34m,\u001b[0m \u001b[0;34m**\u001b[0m\u001b[0mkwds\u001b[0m\u001b[0;34m)\u001b[0m  \u001b[0;31m# pylint: disable=not-callable\u001b[0m\u001b[0;34m\u001b[0m\u001b[0;34m\u001b[0m\u001b[0m\n\u001b[0m\u001b[1;32m    918\u001b[0m     \u001b[0;32melif\u001b[0m \u001b[0mself\u001b[0m\u001b[0;34m.\u001b[0m\u001b[0m_stateful_fn\u001b[0m \u001b[0;32mis\u001b[0m \u001b[0;32mnot\u001b[0m \u001b[0;32mNone\u001b[0m\u001b[0;34m:\u001b[0m\u001b[0;34m\u001b[0m\u001b[0;34m\u001b[0m\u001b[0m\n\u001b[1;32m    919\u001b[0m       \u001b[0;31m# Release the lock early so that multiple threads can perform the call\u001b[0m\u001b[0;34m\u001b[0m\u001b[0;34m\u001b[0m\u001b[0;34m\u001b[0m\u001b[0m\n",
      "\u001b[0;32m~/Projects/myenv/lib/python3.8/site-packages/tensorflow/python/eager/function.py\u001b[0m in \u001b[0;36m__call__\u001b[0;34m(self, *args, **kwargs)\u001b[0m\n\u001b[1;32m   3021\u001b[0m       (graph_function,\n\u001b[1;32m   3022\u001b[0m        filtered_flat_args) = self._maybe_define_function(args, kwargs)\n\u001b[0;32m-> 3023\u001b[0;31m     return graph_function._call_flat(\n\u001b[0m\u001b[1;32m   3024\u001b[0m         filtered_flat_args, captured_inputs=graph_function.captured_inputs)  # pylint: disable=protected-access\n\u001b[1;32m   3025\u001b[0m \u001b[0;34m\u001b[0m\u001b[0m\n",
      "\u001b[0;32m~/Projects/myenv/lib/python3.8/site-packages/tensorflow/python/eager/function.py\u001b[0m in \u001b[0;36m_call_flat\u001b[0;34m(self, args, captured_inputs, cancellation_manager)\u001b[0m\n\u001b[1;32m   1958\u001b[0m         and executing_eagerly):\n\u001b[1;32m   1959\u001b[0m       \u001b[0;31m# No tape is watching; skip to running the function.\u001b[0m\u001b[0;34m\u001b[0m\u001b[0;34m\u001b[0m\u001b[0;34m\u001b[0m\u001b[0m\n\u001b[0;32m-> 1960\u001b[0;31m       return self._build_call_outputs(self._inference_function.call(\n\u001b[0m\u001b[1;32m   1961\u001b[0m           ctx, args, cancellation_manager=cancellation_manager))\n\u001b[1;32m   1962\u001b[0m     forward_backward = self._select_forward_and_backward_functions(\n",
      "\u001b[0;32m~/Projects/myenv/lib/python3.8/site-packages/tensorflow/python/eager/function.py\u001b[0m in \u001b[0;36mcall\u001b[0;34m(self, ctx, args, cancellation_manager)\u001b[0m\n\u001b[1;32m    589\u001b[0m       \u001b[0;32mwith\u001b[0m \u001b[0m_InterpolateFunctionError\u001b[0m\u001b[0;34m(\u001b[0m\u001b[0mself\u001b[0m\u001b[0;34m)\u001b[0m\u001b[0;34m:\u001b[0m\u001b[0;34m\u001b[0m\u001b[0;34m\u001b[0m\u001b[0m\n\u001b[1;32m    590\u001b[0m         \u001b[0;32mif\u001b[0m \u001b[0mcancellation_manager\u001b[0m \u001b[0;32mis\u001b[0m \u001b[0;32mNone\u001b[0m\u001b[0;34m:\u001b[0m\u001b[0;34m\u001b[0m\u001b[0;34m\u001b[0m\u001b[0m\n\u001b[0;32m--> 591\u001b[0;31m           outputs = execute.execute(\n\u001b[0m\u001b[1;32m    592\u001b[0m               \u001b[0mstr\u001b[0m\u001b[0;34m(\u001b[0m\u001b[0mself\u001b[0m\u001b[0;34m.\u001b[0m\u001b[0msignature\u001b[0m\u001b[0;34m.\u001b[0m\u001b[0mname\u001b[0m\u001b[0;34m)\u001b[0m\u001b[0;34m,\u001b[0m\u001b[0;34m\u001b[0m\u001b[0;34m\u001b[0m\u001b[0m\n\u001b[1;32m    593\u001b[0m               \u001b[0mnum_outputs\u001b[0m\u001b[0;34m=\u001b[0m\u001b[0mself\u001b[0m\u001b[0;34m.\u001b[0m\u001b[0m_num_outputs\u001b[0m\u001b[0;34m,\u001b[0m\u001b[0;34m\u001b[0m\u001b[0;34m\u001b[0m\u001b[0m\n",
      "\u001b[0;32m~/Projects/myenv/lib/python3.8/site-packages/tensorflow/python/eager/execute.py\u001b[0m in \u001b[0;36mquick_execute\u001b[0;34m(op_name, num_outputs, inputs, attrs, ctx, name)\u001b[0m\n\u001b[1;32m     57\u001b[0m   \u001b[0;32mtry\u001b[0m\u001b[0;34m:\u001b[0m\u001b[0;34m\u001b[0m\u001b[0;34m\u001b[0m\u001b[0m\n\u001b[1;32m     58\u001b[0m     \u001b[0mctx\u001b[0m\u001b[0;34m.\u001b[0m\u001b[0mensure_initialized\u001b[0m\u001b[0;34m(\u001b[0m\u001b[0;34m)\u001b[0m\u001b[0;34m\u001b[0m\u001b[0;34m\u001b[0m\u001b[0m\n\u001b[0;32m---> 59\u001b[0;31m     tensors = pywrap_tfe.TFE_Py_Execute(ctx._handle, device_name, op_name,\n\u001b[0m\u001b[1;32m     60\u001b[0m                                         inputs, attrs, num_outputs)\n\u001b[1;32m     61\u001b[0m   \u001b[0;32mexcept\u001b[0m \u001b[0mcore\u001b[0m\u001b[0;34m.\u001b[0m\u001b[0m_NotOkStatusException\u001b[0m \u001b[0;32mas\u001b[0m \u001b[0me\u001b[0m\u001b[0;34m:\u001b[0m\u001b[0;34m\u001b[0m\u001b[0;34m\u001b[0m\u001b[0m\n",
      "\u001b[0;31mKeyboardInterrupt\u001b[0m: "
     ]
    }
   ],
   "source": [
    "filename='sm_20_lettersdim.h5'\n",
    "autoencoder.compile(optimizer='adam', \n",
    "                    loss='mean_squared_error', \n",
    "                    metrics=['accuracy'])\n",
    "\n",
    "checkpointer = ModelCheckpoint(filepath=filename,\n",
    "                               verbose=0,\n",
    "                               save_best_only=True)\n",
    "\n",
    "tensorboard = TensorBoard(log_dir='./logs',\n",
    "                          histogram_freq=0,\n",
    "                          write_graph=True,\n",
    "                          write_images=True)\n",
    "\n",
    "history = autoencoder.fit(X_train, X_train,\n",
    "                    epochs=nb_epoch,\n",
    "                    batch_size=batch_size,\n",
    "                    shuffle=True,\n",
    "                    validation_data=(X_test, X_test),\n",
    "                    verbose=1,\n",
    "                    callbacks=[checkpointer, tensorboard]).history"
   ]
  },
  {
   "cell_type": "code",
   "execution_count": 88,
   "id": "7d2c7425-1272-49fd-9cf4-c87d52c3eb26",
   "metadata": {},
   "outputs": [
    {
     "data": {
      "image/png": "[encoded data removed]",
      "text/plain": [
       "<Figure size 864x432 with 1 Axes>"
      ]
     },
     "metadata": {},
     "output_type": "display_data"
    }
   ],
   "source": [
    "plt.plot(history['loss'])\n",
    "plt.plot(history['val_loss'])\n",
    "plt.title('model loss')\n",
    "plt.ylabel('loss')\n",
    "plt.xlabel('epoch')\n",
    "plt.legend(['train', 'test'], loc='upper right');"
   ]
  },
  {
   "cell_type": "code",
   "execution_count": 89,
   "id": "ca646d2a-75aa-44f1-b466-d6a2467d7111",
   "metadata": {},
   "outputs": [
    {
     "name": "stdout",
     "output_type": "stream",
     "text": [
      "Min Loss:0.0002812697202898562\n"
     ]
    }
   ],
   "source": [
    "autoencoder = load_model(filename)\n",
    "print(f'Min Loss:{np.min(history[\"loss\"])}')"
   ]
  },
  {
   "cell_type": "code",
   "execution_count": 90,
   "id": "05eb783f-6acb-4d40-a400-4fb8fb2b5ec5",
   "metadata": {},
   "outputs": [
    {
     "name": "stdout",
     "output_type": "stream",
     "text": [
      "MSE: 0.0034151029906667966\n"
     ]
    }
   ],
   "source": [
    "#get the MSE error term\n",
    "predictions = autoencoder.predict(scaled_seqs)\n",
    "mse = np.mean(np.power(scaled_seqs - predictions, 2), axis=1)\n",
    "print('MSE:', np.quantile(mse, 0.999)) # => the 9999% quatile - only 0.0001% have error score higher than that"
   ]
  },
  {
   "cell_type": "code",
   "execution_count": 91,
   "id": "d6b699ee-4b66-4096-bac8-849cbde045d3",
   "metadata": {},
   "outputs": [],
   "source": [
    "\n",
    "#encode all the data\n",
    "encoded_seqs = encode_sequence_list(seqs_ds.iloc[:,0], 20)\n",
    "#scale it\n",
    "scaled_data = MinMaxScaler().fit_transform(encoded_seqs)\n",
    "#predict it\n",
    "predicted = autoencoder.predict(scaled_data)\n",
    "#get the error term\n",
    "mse = np.mean(np.power(scaled_data - predicted, 2), axis=1)\n",
    "#now add them to our data frame\n",
    "seqs_ds['MSE'] = mse"
   ]
  },
  {
   "cell_type": "code",
   "execution_count": 92,
   "id": "495fbf06-d2e2-47fb-9176-abbe42e69f1f",
   "metadata": {},
   "outputs": [
    {
     "data": {
      "text/html": [
       "<div>\n",
       "<style scoped>\n",
       "    .dataframe tbody tr th:only-of-type {\n",
       "        vertical-align: middle;\n",
       "    }\n",
       "\n",
       "    .dataframe tbody tr th {\n",
       "        vertical-align: top;\n",
       "    }\n",
       "\n",
       "    .dataframe thead th {\n",
       "        text-align: right;\n",
       "    }\n",
       "</style>\n",
       "<table border=\"1\" class=\"dataframe\">\n",
       "  <thead>\n",
       "    <tr style=\"text-align: right;\">\n",
       "      <th></th>\n",
       "      <th>0</th>\n",
       "      <th>MSE</th>\n",
       "      <th>MSE_Outlier</th>\n",
       "    </tr>\n",
       "  </thead>\n",
       "  <tbody>\n",
       "    <tr>\n",
       "      <th>0</th>\n",
       "      <td>उक्त्वानुज्ञाप्य</td>\n",
       "      <td>0.001016</td>\n",
       "      <td>0</td>\n",
       "    </tr>\n",
       "    <tr>\n",
       "      <th>1</th>\n",
       "      <td>नानुमन्यसे</td>\n",
       "      <td>0.000175</td>\n",
       "      <td>0</td>\n",
       "    </tr>\n",
       "    <tr>\n",
       "      <th>2</th>\n",
       "      <td>सुदारुणालांकृतवेषधारिणा</td>\n",
       "      <td>0.004525</td>\n",
       "      <td>0</td>\n",
       "    </tr>\n",
       "    <tr>\n",
       "      <th>3</th>\n",
       "      <td>शलभाः</td>\n",
       "      <td>0.000026</td>\n",
       "      <td>0</td>\n",
       "    </tr>\n",
       "    <tr>\n",
       "      <th>4</th>\n",
       "      <td>गणित</td>\n",
       "      <td>0.000280</td>\n",
       "      <td>0</td>\n",
       "    </tr>\n",
       "    <tr>\n",
       "      <th>...</th>\n",
       "      <td>...</td>\n",
       "      <td>...</td>\n",
       "      <td>...</td>\n",
       "    </tr>\n",
       "    <tr>\n",
       "      <th>207175</th>\n",
       "      <td>नरकायेति</td>\n",
       "      <td>0.000041</td>\n",
       "      <td>0</td>\n",
       "    </tr>\n",
       "    <tr>\n",
       "      <th>207176</th>\n",
       "      <td>सर्वभूतानुकम्पकः</td>\n",
       "      <td>0.000310</td>\n",
       "      <td>0</td>\n",
       "    </tr>\n",
       "    <tr>\n",
       "      <th>207177</th>\n",
       "      <td>मातृवद</td>\n",
       "      <td>0.000031</td>\n",
       "      <td>0</td>\n",
       "    </tr>\n",
       "    <tr>\n",
       "      <th>207178</th>\n",
       "      <td>नर्मदायाम</td>\n",
       "      <td>0.000026</td>\n",
       "      <td>0</td>\n",
       "    </tr>\n",
       "    <tr>\n",
       "      <th>207179</th>\n",
       "      <td>चैकराट</td>\n",
       "      <td>0.000046</td>\n",
       "      <td>0</td>\n",
       "    </tr>\n",
       "  </tbody>\n",
       "</table>\n",
       "<p>207180 rows × 3 columns</p>\n",
       "</div>"
      ],
      "text/plain": [
       "                              0       MSE  MSE_Outlier\n",
       "0              उक्त्वानुज्ञाप्य  0.001016            0\n",
       "1                    नानुमन्यसे  0.000175            0\n",
       "2       सुदारुणालांकृतवेषधारिणा  0.004525            0\n",
       "3                         शलभाः  0.000026            0\n",
       "4                          गणित  0.000280            0\n",
       "...                         ...       ...          ...\n",
       "207175                 नरकायेति  0.000041            0\n",
       "207176         सर्वभूतानुकम्पकः  0.000310            0\n",
       "207177                   मातृवद  0.000031            0\n",
       "207178                नर्मदायाम  0.000026            0\n",
       "207179                   चैकराट  0.000046            0\n",
       "\n",
       "[207180 rows x 3 columns]"
      ]
     },
     "metadata": {},
     "output_type": "display_data"
    }
   ],
   "source": [
    "display(seqs_ds)\n"
   ]
  },
  {
   "cell_type": "code",
   "execution_count": 93,
   "id": "9c44bf11-0fb6-43d9-87b5-7100a28e6082",
   "metadata": {},
   "outputs": [
    {
     "name": "stdout",
     "output_type": "stream",
     "text": [
      "MSE 0.9999 threshhold:0.004718455450505615\n"
     ]
    }
   ],
   "source": [
    "\n",
    "mse_threshold = np.quantile(seqs_ds['MSE'], 0.9999)\n",
    "print(f'MSE 0.9999 threshhold:{mse_threshold}')"
   ]
  },
  {
   "cell_type": "code",
   "execution_count": 94,
   "id": "6776a954-264b-47b7-92f0-635161ca81c5",
   "metadata": {},
   "outputs": [],
   "source": [
    "seqs_ds['MSE_Outlier'] = 0\n",
    "seqs_ds.loc[seqs_ds['MSE'] > mse_threshold, 'MSE_Outlier'] = 1"
   ]
  },
  {
   "cell_type": "code",
   "execution_count": 95,
   "id": "b9d5e9e1-fac3-4a1a-bb9f-30d623618086",
   "metadata": {},
   "outputs": [
    {
     "name": "stdout",
     "output_type": "stream",
     "text": [
      "Num of MSE outlier:21\n"
     ]
    },
    {
     "data": {
      "text/html": [
       "<div>\n",
       "<style scoped>\n",
       "    .dataframe tbody tr th:only-of-type {\n",
       "        vertical-align: middle;\n",
       "    }\n",
       "\n",
       "    .dataframe tbody tr th {\n",
       "        vertical-align: top;\n",
       "    }\n",
       "\n",
       "    .dataframe thead th {\n",
       "        text-align: right;\n",
       "    }\n",
       "</style>\n",
       "<table border=\"1\" class=\"dataframe\">\n",
       "  <thead>\n",
       "    <tr style=\"text-align: right;\">\n",
       "      <th></th>\n",
       "      <th>0</th>\n",
       "      <th>MSE</th>\n",
       "      <th>MSE_Outlier</th>\n",
       "    </tr>\n",
       "  </thead>\n",
       "  <tbody>\n",
       "    <tr>\n",
       "      <th>76</th>\n",
       "      <td>अन्यॊन्यवधकाङ्क्षिणाम</td>\n",
       "      <td>0.005579</td>\n",
       "      <td>1</td>\n",
       "    </tr>\n",
       "    <tr>\n",
       "      <th>2912</th>\n",
       "      <td>अन्यॊन्यवधकाङ्क्षिणॊः</td>\n",
       "      <td>0.005889</td>\n",
       "      <td>1</td>\n",
       "    </tr>\n",
       "    <tr>\n",
       "      <th>13701</th>\n",
       "      <td>बाष्पपूर्णाविलेक्षणाः</td>\n",
       "      <td>0.004758</td>\n",
       "      <td>1</td>\n",
       "    </tr>\n",
       "    <tr>\n",
       "      <th>21540</th>\n",
       "      <td>दरौणिवराङ्गभूषणम</td>\n",
       "      <td>0.004836</td>\n",
       "      <td>1</td>\n",
       "    </tr>\n",
       "    <tr>\n",
       "      <th>23535</th>\n",
       "      <td>सीतान्वेषणकाङ्क्षया</td>\n",
       "      <td>0.005377</td>\n",
       "      <td>1</td>\n",
       "    </tr>\n",
       "    <tr>\n",
       "      <th>30207</th>\n",
       "      <td>रामानिर्विण्णदर्शणाः</td>\n",
       "      <td>0.004824</td>\n",
       "      <td>1</td>\n",
       "    </tr>\n",
       "    <tr>\n",
       "      <th>65589</th>\n",
       "      <td>पुण्यलक्षणकर्माणं</td>\n",
       "      <td>0.004973</td>\n",
       "      <td>1</td>\n",
       "    </tr>\n",
       "    <tr>\n",
       "      <th>71289</th>\n",
       "      <td>रामलक्ष्मणलक्षणाः</td>\n",
       "      <td>0.004808</td>\n",
       "      <td>1</td>\n",
       "    </tr>\n",
       "    <tr>\n",
       "      <th>84674</th>\n",
       "      <td>ऊर्ध्वप्रणिहितेक्षणः</td>\n",
       "      <td>0.005242</td>\n",
       "      <td>1</td>\n",
       "    </tr>\n",
       "    <tr>\n",
       "      <th>105028</th>\n",
       "      <td>रॊषदॊषानुषङ्गेण</td>\n",
       "      <td>0.004761</td>\n",
       "      <td>1</td>\n",
       "    </tr>\n",
       "    <tr>\n",
       "      <th>121560</th>\n",
       "      <td>बाष्पपूर्णेक्षणः</td>\n",
       "      <td>0.004754</td>\n",
       "      <td>1</td>\n",
       "    </tr>\n",
       "    <tr>\n",
       "      <th>129386</th>\n",
       "      <td>चारुस्रङ्मुकुटॊष्णीषैर</td>\n",
       "      <td>0.005111</td>\n",
       "      <td>1</td>\n",
       "    </tr>\n",
       "    <tr>\n",
       "      <th>139628</th>\n",
       "      <td>अश्रुपूर्णेक्षणा</td>\n",
       "      <td>0.004743</td>\n",
       "      <td>1</td>\n",
       "    </tr>\n",
       "    <tr>\n",
       "      <th>142009</th>\n",
       "      <td>वयावृत्तगुरुपीनस्रक्प्रकीर्णवरभूषणाः</td>\n",
       "      <td>0.005162</td>\n",
       "      <td>1</td>\n",
       "    </tr>\n",
       "    <tr>\n",
       "      <th>143170</th>\n",
       "      <td>तवयात्मवधकाङ्क्षिणा</td>\n",
       "      <td>0.005634</td>\n",
       "      <td>1</td>\n",
       "    </tr>\n",
       "    <tr>\n",
       "      <th>146859</th>\n",
       "      <td>अश्रुपूर्णाकुलेक्षणम</td>\n",
       "      <td>0.005375</td>\n",
       "      <td>1</td>\n",
       "    </tr>\n",
       "    <tr>\n",
       "      <th>149519</th>\n",
       "      <td>तरैलॊक्याकाङ्क्षिणाव</td>\n",
       "      <td>0.004878</td>\n",
       "      <td>1</td>\n",
       "    </tr>\n",
       "    <tr>\n",
       "      <th>151592</th>\n",
       "      <td>शवेतवर्माम्बरॊष्णीषॊ</td>\n",
       "      <td>0.005108</td>\n",
       "      <td>1</td>\n",
       "    </tr>\n",
       "    <tr>\n",
       "      <th>156066</th>\n",
       "      <td>चूर्णिताङ्गविभूषणः</td>\n",
       "      <td>0.004882</td>\n",
       "      <td>1</td>\n",
       "    </tr>\n",
       "    <tr>\n",
       "      <th>161905</th>\n",
       "      <td>छिन्नत्रिवेणुजङ्घेषान</td>\n",
       "      <td>0.005082</td>\n",
       "      <td>1</td>\n",
       "    </tr>\n",
       "    <tr>\n",
       "      <th>194499</th>\n",
       "      <td>अन्यॊन्यवधकाङ्क्षिणौ</td>\n",
       "      <td>0.005632</td>\n",
       "      <td>1</td>\n",
       "    </tr>\n",
       "  </tbody>\n",
       "</table>\n",
       "</div>"
      ],
      "text/plain": [
       "                                           0       MSE  MSE_Outlier\n",
       "76                     अन्यॊन्यवधकाङ्क्षिणाम  0.005579            1\n",
       "2912                   अन्यॊन्यवधकाङ्क्षिणॊः  0.005889            1\n",
       "13701                  बाष्पपूर्णाविलेक्षणाः  0.004758            1\n",
       "21540                       दरौणिवराङ्गभूषणम  0.004836            1\n",
       "23535                    सीतान्वेषणकाङ्क्षया  0.005377            1\n",
       "30207                   रामानिर्विण्णदर्शणाः  0.004824            1\n",
       "65589                      पुण्यलक्षणकर्माणं  0.004973            1\n",
       "71289                      रामलक्ष्मणलक्षणाः  0.004808            1\n",
       "84674                   ऊर्ध्वप्रणिहितेक्षणः  0.005242            1\n",
       "105028                       रॊषदॊषानुषङ्गेण  0.004761            1\n",
       "121560                      बाष्पपूर्णेक्षणः  0.004754            1\n",
       "129386                चारुस्रङ्मुकुटॊष्णीषैर  0.005111            1\n",
       "139628                      अश्रुपूर्णेक्षणा  0.004743            1\n",
       "142009  वयावृत्तगुरुपीनस्रक्प्रकीर्णवरभूषणाः  0.005162            1\n",
       "143170                   तवयात्मवधकाङ्क्षिणा  0.005634            1\n",
       "146859                  अश्रुपूर्णाकुलेक्षणम  0.005375            1\n",
       "149519                  तरैलॊक्याकाङ्क्षिणाव  0.004878            1\n",
       "151592                  शवेतवर्माम्बरॊष्णीषॊ  0.005108            1\n",
       "156066                    चूर्णिताङ्गविभूषणः  0.004882            1\n",
       "161905                 छिन्नत्रिवेणुजङ्घेषान  0.005082            1\n",
       "194499                  अन्यॊन्यवधकाङ्क्षिणौ  0.005632            1"
      ]
     },
     "execution_count": 95,
     "metadata": {},
     "output_type": "execute_result"
    }
   ],
   "source": [
    "print(f\"Num of MSE outlier:{seqs_ds['MSE_Outlier'].sum()}\")\n",
    "\n",
    "seqs_ds.loc[seqs_ds['MSE_Outlier'] == 1]"
   ]
  },
  {
   "cell_type": "code",
   "execution_count": 96,
   "id": "710864b6-6ee8-4515-a27e-9f81612b8245",
   "metadata": {},
   "outputs": [
    {
     "name": "stdout",
     "output_type": "stream",
     "text": [
      "Num of MSE outlier:21\n"
     ]
    },
    {
     "data": {
      "text/html": [
       "<div>\n",
       "<style scoped>\n",
       "    .dataframe tbody tr th:only-of-type {\n",
       "        vertical-align: middle;\n",
       "    }\n",
       "\n",
       "    .dataframe tbody tr th {\n",
       "        vertical-align: top;\n",
       "    }\n",
       "\n",
       "    .dataframe thead th {\n",
       "        text-align: right;\n",
       "    }\n",
       "</style>\n",
       "<table border=\"1\" class=\"dataframe\">\n",
       "  <thead>\n",
       "    <tr style=\"text-align: right;\">\n",
       "      <th></th>\n",
       "      <th>0</th>\n",
       "      <th>MSE</th>\n",
       "      <th>MSE_Outlier</th>\n",
       "    </tr>\n",
       "  </thead>\n",
       "  <tbody>\n",
       "    <tr>\n",
       "      <th>76</th>\n",
       "      <td>अन्यॊन्यवधकाङ्क्षिणाम</td>\n",
       "      <td>0.005579</td>\n",
       "      <td>1</td>\n",
       "    </tr>\n",
       "    <tr>\n",
       "      <th>2912</th>\n",
       "      <td>अन्यॊन्यवधकाङ्क्षिणॊः</td>\n",
       "      <td>0.005889</td>\n",
       "      <td>1</td>\n",
       "    </tr>\n",
       "    <tr>\n",
       "      <th>13701</th>\n",
       "      <td>बाष्पपूर्णाविलेक्षणाः</td>\n",
       "      <td>0.004758</td>\n",
       "      <td>1</td>\n",
       "    </tr>\n",
       "    <tr>\n",
       "      <th>21540</th>\n",
       "      <td>दरौणिवराङ्गभूषणम</td>\n",
       "      <td>0.004836</td>\n",
       "      <td>1</td>\n",
       "    </tr>\n",
       "    <tr>\n",
       "      <th>23535</th>\n",
       "      <td>सीतान्वेषणकाङ्क्षया</td>\n",
       "      <td>0.005377</td>\n",
       "      <td>1</td>\n",
       "    </tr>\n",
       "    <tr>\n",
       "      <th>30207</th>\n",
       "      <td>रामानिर्विण्णदर्शणाः</td>\n",
       "      <td>0.004824</td>\n",
       "      <td>1</td>\n",
       "    </tr>\n",
       "    <tr>\n",
       "      <th>65589</th>\n",
       "      <td>पुण्यलक्षणकर्माणं</td>\n",
       "      <td>0.004973</td>\n",
       "      <td>1</td>\n",
       "    </tr>\n",
       "    <tr>\n",
       "      <th>71289</th>\n",
       "      <td>रामलक्ष्मणलक्षणाः</td>\n",
       "      <td>0.004808</td>\n",
       "      <td>1</td>\n",
       "    </tr>\n",
       "    <tr>\n",
       "      <th>84674</th>\n",
       "      <td>ऊर्ध्वप्रणिहितेक्षणः</td>\n",
       "      <td>0.005242</td>\n",
       "      <td>1</td>\n",
       "    </tr>\n",
       "    <tr>\n",
       "      <th>105028</th>\n",
       "      <td>रॊषदॊषानुषङ्गेण</td>\n",
       "      <td>0.004761</td>\n",
       "      <td>1</td>\n",
       "    </tr>\n",
       "    <tr>\n",
       "      <th>121560</th>\n",
       "      <td>बाष्पपूर्णेक्षणः</td>\n",
       "      <td>0.004754</td>\n",
       "      <td>1</td>\n",
       "    </tr>\n",
       "    <tr>\n",
       "      <th>129386</th>\n",
       "      <td>चारुस्रङ्मुकुटॊष्णीषैर</td>\n",
       "      <td>0.005111</td>\n",
       "      <td>1</td>\n",
       "    </tr>\n",
       "    <tr>\n",
       "      <th>139628</th>\n",
       "      <td>अश्रुपूर्णेक्षणा</td>\n",
       "      <td>0.004743</td>\n",
       "      <td>1</td>\n",
       "    </tr>\n",
       "    <tr>\n",
       "      <th>142009</th>\n",
       "      <td>वयावृत्तगुरुपीनस्रक्प्रकीर्णवरभूषणाः</td>\n",
       "      <td>0.005162</td>\n",
       "      <td>1</td>\n",
       "    </tr>\n",
       "    <tr>\n",
       "      <th>143170</th>\n",
       "      <td>तवयात्मवधकाङ्क्षिणा</td>\n",
       "      <td>0.005634</td>\n",
       "      <td>1</td>\n",
       "    </tr>\n",
       "    <tr>\n",
       "      <th>146859</th>\n",
       "      <td>अश्रुपूर्णाकुलेक्षणम</td>\n",
       "      <td>0.005375</td>\n",
       "      <td>1</td>\n",
       "    </tr>\n",
       "    <tr>\n",
       "      <th>149519</th>\n",
       "      <td>तरैलॊक्याकाङ्क्षिणाव</td>\n",
       "      <td>0.004878</td>\n",
       "      <td>1</td>\n",
       "    </tr>\n",
       "    <tr>\n",
       "      <th>151592</th>\n",
       "      <td>शवेतवर्माम्बरॊष्णीषॊ</td>\n",
       "      <td>0.005108</td>\n",
       "      <td>1</td>\n",
       "    </tr>\n",
       "    <tr>\n",
       "      <th>156066</th>\n",
       "      <td>चूर्णिताङ्गविभूषणः</td>\n",
       "      <td>0.004882</td>\n",
       "      <td>1</td>\n",
       "    </tr>\n",
       "    <tr>\n",
       "      <th>161905</th>\n",
       "      <td>छिन्नत्रिवेणुजङ्घेषान</td>\n",
       "      <td>0.005082</td>\n",
       "      <td>1</td>\n",
       "    </tr>\n",
       "    <tr>\n",
       "      <th>194499</th>\n",
       "      <td>अन्यॊन्यवधकाङ्क्षिणौ</td>\n",
       "      <td>0.005632</td>\n",
       "      <td>1</td>\n",
       "    </tr>\n",
       "  </tbody>\n",
       "</table>\n",
       "</div>"
      ],
      "text/plain": [
       "                                           0       MSE  MSE_Outlier\n",
       "76                     अन्यॊन्यवधकाङ्क्षिणाम  0.005579            1\n",
       "2912                   अन्यॊन्यवधकाङ्क्षिणॊः  0.005889            1\n",
       "13701                  बाष्पपूर्णाविलेक्षणाः  0.004758            1\n",
       "21540                       दरौणिवराङ्गभूषणम  0.004836            1\n",
       "23535                    सीतान्वेषणकाङ्क्षया  0.005377            1\n",
       "30207                   रामानिर्विण्णदर्शणाः  0.004824            1\n",
       "65589                      पुण्यलक्षणकर्माणं  0.004973            1\n",
       "71289                      रामलक्ष्मणलक्षणाः  0.004808            1\n",
       "84674                   ऊर्ध्वप्रणिहितेक्षणः  0.005242            1\n",
       "105028                       रॊषदॊषानुषङ्गेण  0.004761            1\n",
       "121560                      बाष्पपूर्णेक्षणः  0.004754            1\n",
       "129386                चारुस्रङ्मुकुटॊष्णीषैर  0.005111            1\n",
       "139628                      अश्रुपूर्णेक्षणा  0.004743            1\n",
       "142009  वयावृत्तगुरुपीनस्रक्प्रकीर्णवरभूषणाः  0.005162            1\n",
       "143170                   तवयात्मवधकाङ्क्षिणा  0.005634            1\n",
       "146859                  अश्रुपूर्णाकुलेक्षणम  0.005375            1\n",
       "149519                  तरैलॊक्याकाङ्क्षिणाव  0.004878            1\n",
       "151592                  शवेतवर्माम्बरॊष्णीषॊ  0.005108            1\n",
       "156066                    चूर्णिताङ्गविभूषणः  0.004882            1\n",
       "161905                 छिन्नत्रिवेणुजङ्घेषान  0.005082            1\n",
       "194499                  अन्यॊन्यवधकाङ्क्षिणौ  0.005632            1"
      ]
     },
     "execution_count": 96,
     "metadata": {},
     "output_type": "execute_result"
    }
   ],
   "source": [
    "print(f\"Num of MSE outlier:{seqs_ds['MSE_Outlier'].sum()}\")\n",
    "\n",
    "seqs_ds.loc[seqs_ds['MSE_Outlier'] == 1]"
   ]
  },
  {
   "cell_type": "code",
   "execution_count": null,
   "id": "16ee9587-c518-4347-b869-431084e3369a",
   "metadata": {},
   "outputs": [],
   "source": []
  },
  {
   "cell_type": "code",
   "execution_count": null,
   "id": "d0ccfb10-1f8b-4493-b7a0-6d3fb03be402",
   "metadata": {},
   "outputs": [],
   "source": []
  }
 ],
 "metadata": {
  "kernelspec": {
   "display_name": "Python 3 (ipykernel)",
   "language": "python",
   "name": "python3"
  },
  "language_info": {
   "codemirror_mode": {
    "name": "ipython",
    "version": 3
   },
   "file_extension": ".py",
   "mimetype": "text/x-python",
   "name": "python",
   "nbconvert_exporter": "python",
   "pygments_lexer": "ipython3",
   "version": "3.8.10"
  }
 },
 "nbformat": 4,
 "nbformat_minor": 5
}
