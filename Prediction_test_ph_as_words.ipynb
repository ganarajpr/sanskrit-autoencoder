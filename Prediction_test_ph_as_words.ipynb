{
 "cells": [
  {
   "cell_type": "code",
   "execution_count": 18,
   "id": "8ee12f2c-1931-477e-acc5-9ddb7e0e17ed",
   "metadata": {},
   "outputs": [],
   "source": [
    "import random\n",
    "import pandas as pd\n",
    "import numpy as np\n",
    "import matplotlib.pyplot as plt\n",
    "import seaborn as sns\n",
    "%matplotlib inline\n",
    "from pylab import rcParams"
   ]
  },
  {
   "cell_type": "code",
   "execution_count": 19,
   "id": "0facb300-6f15-4bed-8c03-cd6d4dff60c8",
   "metadata": {},
   "outputs": [],
   "source": [
    "filename='sm_bidi2.h5'\n",
    "dim = 15\n",
    "\n",
    "import pickle\n",
    "with open('tk.pickle', 'rb') as handle:\n",
    "    tk = pickle.load(handle)"
   ]
  },
  {
   "cell_type": "code",
   "execution_count": 20,
   "id": "b73e4413-8d99-43f1-84e1-b714b2a39548",
   "metadata": {},
   "outputs": [],
   "source": [
    "from keras.models import load_model\n",
    "\n",
    "autoencoder = load_model(filename)"
   ]
  },
  {
   "cell_type": "code",
   "execution_count": 21,
   "id": "65bea518-78c7-4bdc-9e36-f054241e276f",
   "metadata": {},
   "outputs": [
    {
     "data": {
      "text/plain": [
       "4181"
      ]
     },
     "execution_count": 21,
     "metadata": {},
     "output_type": "execute_result"
    }
   ],
   "source": [
    "unph = pd.read_csv('devph.csv')\n",
    "ph = unph.values.flatten().tolist()\n",
    "len(ph)"
   ]
  },
  {
   "cell_type": "code",
   "execution_count": 22,
   "id": "d96db546-3fdc-42d1-8aca-b34f1496a5e9",
   "metadata": {},
   "outputs": [],
   "source": [
    "num_words = len(ph)\n",
    "maxlen = 30\n",
    "embed_dim = 150\n",
    "batch_size = 16\n",
    "nb_epoch = 30"
   ]
  },
  {
   "cell_type": "code",
   "execution_count": 23,
   "id": "c6821ecd-44b1-4706-b38f-d10d162fd566",
   "metadata": {},
   "outputs": [],
   "source": [
    "with open(\"./dev-br.txt\") as f:\n",
    "    sentences = f.readlines()\n"
   ]
  },
  {
   "cell_type": "code",
   "execution_count": 24,
   "id": "ec98e006-1ee3-4d1e-8d5f-d3fac434aa6d",
   "metadata": {},
   "outputs": [
    {
     "name": "stdout",
     "output_type": "stream",
     "text": [
      "207180\n",
      "2180\n"
     ]
    }
   ],
   "source": [
    "print(len(sentences))\n",
    "test_set = sentences[205000:]\n",
    "print(len(test_set))"
   ]
  },
  {
   "cell_type": "code",
   "execution_count": 25,
   "id": "62762220-ec6e-4422-90b5-7c2966d3a3f4",
   "metadata": {},
   "outputs": [],
   "source": [
    "from keras.preprocessing.text import Tokenizer\n",
    "from keras.preprocessing.sequence import pad_sequences\n",
    "\n",
    "tokenizer = Tokenizer(num_words = num_words, split=' ')\n",
    "tokenizer.fit_on_texts(sentences)\n",
    "seqs = tokenizer.texts_to_sequences(test_set)\n",
    "pad_seqs = pad_sequences(seqs, maxlen)"
   ]
  },
  {
   "cell_type": "code",
   "execution_count": 26,
   "id": "a0fa86d6-3a25-4059-b077-0024228426a8",
   "metadata": {},
   "outputs": [
    {
     "name": "stderr",
     "output_type": "stream",
     "text": [
      "2021-08-02 08:30:15.883898: W tensorflow/core/framework/cpu_allocator_impl.cc:80] Allocation of 1093749600 exceeds 10% of free system memory.\n"
     ]
    }
   ],
   "source": [
    "#get the MSE error term\n",
    "predictions = autoencoder.predict(pad_seqs)\n",
    "#mse = np.mean(np.power(scaled_seqs - predictions, 2), axis=1)\n",
    "#print('MSE:', np.quantile(mse, 0.999)) # => the 9999% quatile - only 0.0001% have error score higher than that"
   ]
  },
  {
   "cell_type": "code",
   "execution_count": 65,
   "id": "801ed49f-71a5-48ad-a6a1-05f2b7e62843",
   "metadata": {},
   "outputs": [
    {
     "name": "stdout",
     "output_type": "stream",
     "text": [
      "[0, 0, 0, 0, 0, 0, 0, 0, 0, 0, 0, 0, 0, 0, 0, 0, 0, 0, 0, 0, 0, 0, 216, 5, 18, 1163, 209, 7, 259, 8]\n",
      "पी त मा ञ्जि ष्ठ व र्णा श\n",
      "['पी त मा ञ्जि ष्ठ व र्णा श']\n",
      "[   0    0    0    0    0    0    0    0    0    0    0    0    0    0\n",
      "    0    0    0    0    0    0    0    0  216    5   18 1163  209    7\n",
      "  259    8]\n",
      "MSE: 0.0\n"
     ]
    }
   ],
   "source": [
    "#classes = list(np.argmax(predictions, axis=1))\n",
    "#print(predictions)\n",
    "sentence = \"पी त मा ञ्जि ष्ठ व र्णा श\"\n",
    "seq = tokenizer.texts_to_sequences([sentence])\n",
    "pad_seq = pad_sequences(seq, maxlen)\n",
    "sentence_seq = autoencoder.predict(pad_seq)\n",
    "classes = list(np.argmax(sentence_seq[0], axis=1))\n",
    "print(classes)\n",
    "print(sentence)\n",
    "print(tokenizer.sequences_to_texts([classes]))\n",
    "#for i in range(len(sentence_seq(0)):\n",
    "   \n",
    "print(pad_seq[0])\n",
    "#sentence_seq.shape\n",
    "mse = np.mean(np.power(pad_seq - classes, 2), axis=1)\n",
    "print('MSE:', np.quantile(mse, 0.999)) # => the 9999% quatile - only 0.0001% have error score higher than that"
   ]
  },
  {
   "cell_type": "code",
   "execution_count": 84,
   "id": "758db89e-5042-42a1-9a2d-0d411e26340a",
   "metadata": {},
   "outputs": [],
   "source": [
    "#encode all the data\n",
    "encoded_seqs = encode_sequence_list(seqs_ds.iloc[:,0],dim)\n",
    "#scale it\n",
    "scaled_data = MinMaxScaler().fit_transform(encoded_seqs)\n",
    "#predict it\n",
    "predicted = autoencoder.predict(scaled_data)\n",
    "#get the error term\n",
    "mse = np.mean(np.power(scaled_data - predicted, 2), axis=1)\n",
    "#now add them to our data frame\n",
    "seqs_ds['MSE'] = mse"
   ]
  },
  {
   "cell_type": "code",
   "execution_count": 85,
   "id": "622c7da8-3318-436a-8762-9fe3282b977f",
   "metadata": {},
   "outputs": [
    {
     "data": {
      "text/html": [
       "<div>\n",
       "<style scoped>\n",
       "    .dataframe tbody tr th:only-of-type {\n",
       "        vertical-align: middle;\n",
       "    }\n",
       "\n",
       "    .dataframe tbody tr th {\n",
       "        vertical-align: top;\n",
       "    }\n",
       "\n",
       "    .dataframe thead th {\n",
       "        text-align: right;\n",
       "    }\n",
       "</style>\n",
       "<table border=\"1\" class=\"dataframe\">\n",
       "  <thead>\n",
       "    <tr style=\"text-align: right;\">\n",
       "      <th></th>\n",
       "      <th>0</th>\n",
       "      <th>MSE</th>\n",
       "      <th>MSE_Outlier</th>\n",
       "    </tr>\n",
       "  </thead>\n",
       "  <tbody>\n",
       "    <tr>\n",
       "      <th>0</th>\n",
       "      <td>sevyatām</td>\n",
       "      <td>0.006087</td>\n",
       "      <td>1</td>\n",
       "    </tr>\n",
       "    <tr>\n",
       "      <th>1</th>\n",
       "      <td>ditisutāḥ</td>\n",
       "      <td>0.004921</td>\n",
       "      <td>0</td>\n",
       "    </tr>\n",
       "    <tr>\n",
       "      <th>2</th>\n",
       "      <td>thomas</td>\n",
       "      <td>0.001726</td>\n",
       "      <td>0</td>\n",
       "    </tr>\n",
       "  </tbody>\n",
       "</table>\n",
       "</div>"
      ],
      "text/plain": [
       "           0       MSE  MSE_Outlier\n",
       "0   sevyatām  0.006087            1\n",
       "1  ditisutāḥ  0.004921            0\n",
       "2     thomas  0.001726            0"
      ]
     },
     "metadata": {},
     "output_type": "display_data"
    }
   ],
   "source": [
    "display(seqs_ds)"
   ]
  },
  {
   "cell_type": "code",
   "execution_count": 83,
   "id": "fdf5a862-0025-4093-aff2-e36ddad82af3",
   "metadata": {},
   "outputs": [
    {
     "name": "stdout",
     "output_type": "stream",
     "text": [
      "MSE 0.9999 threshhold:0.006086682941338582\n",
      "Num of MSE outlier:1\n"
     ]
    },
    {
     "data": {
      "text/html": [
       "<div>\n",
       "<style scoped>\n",
       "    .dataframe tbody tr th:only-of-type {\n",
       "        vertical-align: middle;\n",
       "    }\n",
       "\n",
       "    .dataframe tbody tr th {\n",
       "        vertical-align: top;\n",
       "    }\n",
       "\n",
       "    .dataframe thead th {\n",
       "        text-align: right;\n",
       "    }\n",
       "</style>\n",
       "<table border=\"1\" class=\"dataframe\">\n",
       "  <thead>\n",
       "    <tr style=\"text-align: right;\">\n",
       "      <th></th>\n",
       "      <th>0</th>\n",
       "      <th>MSE</th>\n",
       "      <th>MSE_Outlier</th>\n",
       "    </tr>\n",
       "  </thead>\n",
       "  <tbody>\n",
       "    <tr>\n",
       "      <th>0</th>\n",
       "      <td>sevyatām</td>\n",
       "      <td>0.006087</td>\n",
       "      <td>1</td>\n",
       "    </tr>\n",
       "  </tbody>\n",
       "</table>\n",
       "</div>"
      ],
      "text/plain": [
       "          0       MSE  MSE_Outlier\n",
       "0  sevyatām  0.006087            1"
      ]
     },
     "execution_count": 83,
     "metadata": {},
     "output_type": "execute_result"
    }
   ],
   "source": [
    "mse_threshold = np.quantile(seqs_ds['MSE'], 0.9999)\n",
    "print(f'MSE 0.9999 threshhold:{mse_threshold}')\n",
    "seqs_ds['MSE_Outlier'] = 0\n",
    "seqs_ds.loc[seqs_ds['MSE'] > mse_threshold, 'MSE_Outlier'] = 1\n",
    "print(f\"Num of MSE outlier:{seqs_ds['MSE_Outlier'].sum()}\")\n",
    "\n",
    "seqs_ds.loc[seqs_ds['MSE_Outlier'] == 1]"
   ]
  },
  {
   "cell_type": "code",
   "execution_count": null,
   "id": "d0c72a76-af86-47ed-bf42-fd13611f5d58",
   "metadata": {},
   "outputs": [],
   "source": []
  },
  {
   "cell_type": "code",
   "execution_count": null,
   "id": "f0bb10f3-f8df-4f67-9ed1-56bd66ebc895",
   "metadata": {},
   "outputs": [],
   "source": []
  }
 ],
 "metadata": {
  "kernelspec": {
   "display_name": "Python 3 (ipykernel)",
   "language": "python",
   "name": "python3"
  },
  "language_info": {
   "codemirror_mode": {
    "name": "ipython",
    "version": 3
   },
   "file_extension": ".py",
   "mimetype": "text/x-python",
   "name": "python",
   "nbconvert_exporter": "python",
   "pygments_lexer": "ipython3",
   "version": "3.8.10"
  }
 },
 "nbformat": 4,
 "nbformat_minor": 5
}
