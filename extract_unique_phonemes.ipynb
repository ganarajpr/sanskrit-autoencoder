{
 "cells": [
  {
   "cell_type": "code",
   "execution_count": 1,
   "id": "6ac9b202-1cbf-4a72-8000-c10cf9086a8a",
   "metadata": {},
   "outputs": [],
   "source": [
    "import pandas as pd\n",
    "import numpy as np"
   ]
  },
  {
   "cell_type": "code",
   "execution_count": 11,
   "id": "cfb4c379-f96b-46de-a4b7-7266411e55f5",
   "metadata": {},
   "outputs": [],
   "source": [
    "def extractPhonemes(word, i, arr):\n",
    "    vowel = ['a','ā','e','i','ī','o','u','ū']\n",
    "    terminals = ['ṃ']\n",
    "    exceptions = ['r','ṛ', 'ḥ', 'm']\n",
    "    if len(word) == 0:\n",
    "        return arr\n",
    "    if len(word) == i:\n",
    "        arr.append(word)\n",
    "        return arr\n",
    "    if word[i] in vowel:\n",
    "        #a,e\n",
    "        if i == 0:\n",
    "            arr.append(word[:i+1])\n",
    "            return extractPhonemes(word[i+1:], 0,arr)\n",
    "        # next can be a terminal or exception\n",
    "        else:\n",
    "            return extractPhonemes(word, i+1,arr)\n",
    "    #if 'ṃ'\n",
    "    if word[i] in terminals:\n",
    "        arr.append(word[:i+1])\n",
    "        return extractPhonemes(word[i+1:], 0,arr)\n",
    "    #exception is a consonant if first\n",
    "    if word[i] in exceptions:\n",
    "        if i == 0:\n",
    "            return extractPhonemes(word, i+1, arr)\n",
    "        else:\n",
    "            #exceptions are terminals if preceded by a vowel\n",
    "            if word[i-1] in vowel and i+1 < len(word) and word[i+1] in vowel:\n",
    "                arr.append(word[:i])\n",
    "                return extractPhonemes(word[i:], 0,arr)\n",
    "            else:\n",
    "                if i+1 < len(word) and word[i+1] in vowel:\n",
    "                    return extractPhonemes(word, i+1, arr)\n",
    "                else: \n",
    "                    arr.append(word[:i+1])\n",
    "                    return extractPhonemes(word[i+1:], 0,arr)\n",
    "    #finally if it is a consonant\n",
    "    if i == 0:\n",
    "        return extractPhonemes(word, i+1, arr)\n",
    "    else:\n",
    "        if word[i-1] in vowel:\n",
    "            arr.append(word[:i])\n",
    "            return extractPhonemes(word[i:], 0,arr)\n",
    "        else:\n",
    "            return extractPhonemes(word, i+1, arr)\n",
    "    return arr"
   ]
  },
  {
   "cell_type": "code",
   "execution_count": 12,
   "id": "65ac3723-deb0-4dd5-baa9-27ea45ce1f1b",
   "metadata": {},
   "outputs": [
    {
     "data": {
      "text/plain": [
       "['śilāyāṃ']"
      ]
     },
     "execution_count": 12,
     "metadata": {},
     "output_type": "execute_result"
    }
   ],
   "source": [
    "uniqWords = pd.read_csv('uniq.csv')\n",
    "wlist = uniqWords.values.tolist()\n",
    "len(wlist)\n",
    "wlist[0]"
   ]
  },
  {
   "cell_type": "code",
   "execution_count": 13,
   "id": "64aa8451-f583-4339-8a2e-1a51a2e02dee",
   "metadata": {},
   "outputs": [
    {
     "name": "stdout",
     "output_type": "stream",
     "text": [
      "66981\n"
     ]
    }
   ],
   "source": [
    "wlist[0]\n",
    "arr = []\n",
    "arr = extractPhonemes(wlist[0][0],0,arr)\n",
    "print(len(wlist))"
   ]
  },
  {
   "cell_type": "code",
   "execution_count": 14,
   "id": "29e93ac8-97e2-43e1-8a62-dd26b75ce558",
   "metadata": {},
   "outputs": [],
   "source": [
    "ab = {}"
   ]
  },
  {
   "cell_type": "code",
   "execution_count": 15,
   "id": "dec88dcb-d4af-4456-98e1-618ed481a5b4",
   "metadata": {},
   "outputs": [
    {
     "name": "stdout",
     "output_type": "stream",
     "text": [
      "Done: 0\n",
      "Done: 1000\n",
      "Done: 2000\n",
      "Done: 3000\n",
      "Done: 4000\n",
      "Done: 5000\n",
      "Done: 6000\n",
      "Done: 7000\n",
      "Done: 8000\n",
      "Done: 9000\n",
      "Done: 10000\n",
      "Done: 11000\n",
      "Done: 12000\n",
      "Done: 13000\n",
      "Done: 14000\n",
      "Done: 15000\n",
      "Done: 16000\n",
      "Done: 17000\n",
      "Done: 18000\n",
      "Done: 19000\n",
      "Done: 20000\n",
      "Done: 21000\n",
      "Done: 22000\n",
      "Done: 23000\n",
      "Done: 24000\n",
      "Done: 25000\n",
      "Done: 26000\n",
      "Done: 27000\n",
      "Done: 28000\n",
      "Done: 29000\n",
      "Done: 30000\n",
      "Done: 31000\n",
      "Done: 32000\n",
      "Done: 33000\n",
      "Done: 34000\n",
      "Done: 35000\n",
      "Done: 36000\n",
      "Done: 37000\n",
      "Done: 38000\n",
      "Done: 39000\n",
      "Done: 40000\n",
      "Done: 41000\n",
      "Done: 42000\n",
      "Done: 43000\n",
      "Done: 44000\n",
      "Done: 45000\n",
      "Done: 46000\n",
      "Done: 47000\n",
      "Done: 48000\n",
      "Done: 49000\n",
      "Done: 50000\n",
      "Done: 51000\n",
      "Done: 52000\n",
      "Done: 53000\n",
      "Done: 54000\n",
      "Done: 55000\n",
      "Done: 56000\n",
      "Done: 57000\n",
      "Done: 58000\n",
      "Done: 59000\n",
      "Done: 60000\n",
      "Done: 61000\n",
      "Done: 62000\n",
      "Done: 63000\n",
      "Done: 64000\n",
      "Done: 65000\n",
      "Done: 66000\n"
     ]
    },
    {
     "data": {
      "text/plain": [
       "4172"
      ]
     },
     "execution_count": 15,
     "metadata": {},
     "output_type": "execute_result"
    }
   ],
   "source": [
    "ph = set([])\n",
    "for i in range(len(wlist)):\n",
    "    arr = []\n",
    "    if i%1000 == 0:\n",
    "        print(\"Done:\", i)\n",
    "    arr = extractPhonemes(wlist[i][0],0,arr)\n",
    "    ph = ph.union(set(arr))\n",
    "len(ph)"
   ]
  },
  {
   "cell_type": "code",
   "execution_count": 20,
   "id": "064c5260-5199-4c74-92dd-2ad0bd674ed8",
   "metadata": {},
   "outputs": [],
   "source": [
    "pdWords = pd.DataFrame(data=ph)\n",
    "pdWords.size\n",
    "pdWords.to_csv('uniqPhonemes.csv', index=False)"
   ]
  },
  {
   "cell_type": "code",
   "execution_count": null,
   "id": "225145b5-76dc-40dd-99e6-1b20975e0cab",
   "metadata": {},
   "outputs": [],
   "source": []
  }
 ],
 "metadata": {
  "kernelspec": {
   "display_name": "Python 3 (ipykernel)",
   "language": "python",
   "name": "python3"
  },
  "language_info": {
   "codemirror_mode": {
    "name": "ipython",
    "version": 3
   },
   "file_extension": ".py",
   "mimetype": "text/x-python",
   "name": "python",
   "nbconvert_exporter": "python",
   "pygments_lexer": "ipython3",
   "version": "3.8.10"
  }
 },
 "nbformat": 4,
 "nbformat_minor": 5
}
